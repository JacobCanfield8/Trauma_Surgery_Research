{
 "cells": [
  {
   "cell_type": "markdown",
   "metadata": {},
   "source": [
    "# `2017 - 2022` Analysis"
   ]
  },
  {
   "cell_type": "code",
   "execution_count": 1,
   "metadata": {},
   "outputs": [],
   "source": [
    "import numpy as np\n",
    "import pandas as pd\n",
    "import glob\n",
    "import matplotlib.pyplot as plt\n",
    "import seaborn as sns\n",
    "import matplotlib as mpl"
   ]
  },
  {
   "cell_type": "markdown",
   "metadata": {},
   "source": [
    "# Notes\n",
    "\n",
    "> Code does a good job of filtering for `2017 - 2018`. \n",
    "\n",
    "> Needs to be tuned up for `2019 - 2022` because file changes occurred again, but mainly just file location\n",
    "\n",
    "> For the sake of time, at the moment will settle for just moving on to include only directly relevant data to our analysis because of complication making the dataset play nice for `2017-2018` and `2019-2022`.\n",
    "\n",
    "> For `2019 - 2022` need to find `DEATHINED`. Also for all years need dictionary to translate `SEX`, `EDDISCHARGEDISPOSITION`, `DEATHINED`, `HOSPDISCHARGEDISPOSITION`."
   ]
  },
  {
   "cell_type": "code",
   "execution_count": 4,
   "metadata": {},
   "outputs": [
    {
     "data": {
      "text/plain": [
       "(997970, 330)"
      ]
     },
     "metadata": {},
     "output_type": "display_data"
    },
    {
     "data": {
      "text/plain": [
       "(6095201, 6)"
      ]
     },
     "metadata": {},
     "output_type": "display_data"
    },
    {
     "data": {
      "text/plain": [
       "(80635, 3)"
      ]
     },
     "metadata": {},
     "output_type": "display_data"
    },
    {
     "data": {
      "text/plain": [
       "(3053, 6)"
      ]
     },
     "metadata": {},
     "output_type": "display_data"
    },
    {
     "data": {
      "text/plain": [
       "(6095201, 4)"
      ]
     },
     "metadata": {},
     "output_type": "display_data"
    },
    {
     "data": {
      "text/plain": [
       "(6784, 4)"
      ]
     },
     "metadata": {},
     "output_type": "display_data"
    },
    {
     "data": {
      "text/plain": [
       "(2736, 4)"
      ]
     },
     "metadata": {},
     "output_type": "display_data"
    },
    {
     "data": {
      "text/plain": [
       "(2736, 4)"
      ]
     },
     "metadata": {},
     "output_type": "display_data"
    },
    {
     "data": {
      "text/plain": [
       "(21242, 4)"
      ]
     },
     "metadata": {},
     "output_type": "display_data"
    },
    {
     "data": {
      "text/plain": [
       "(3053, 4)"
      ]
     },
     "metadata": {},
     "output_type": "display_data"
    },
    {
     "data": {
      "text/plain": [
       "(997970, 6)"
      ]
     },
     "metadata": {},
     "output_type": "display_data"
    },
    {
     "data": {
      "text/plain": [
       "(1778, 6)"
      ]
     },
     "metadata": {},
     "output_type": "display_data"
    },
    {
     "data": {
      "text/html": [
       "<div>\n",
       "<style scoped>\n",
       "    .dataframe tbody tr th:only-of-type {\n",
       "        vertical-align: middle;\n",
       "    }\n",
       "\n",
       "    .dataframe tbody tr th {\n",
       "        vertical-align: top;\n",
       "    }\n",
       "\n",
       "    .dataframe thead th {\n",
       "        text-align: right;\n",
       "    }\n",
       "</style>\n",
       "<table border=\"1\" class=\"dataframe\">\n",
       "  <thead>\n",
       "    <tr style=\"text-align: right;\">\n",
       "      <th></th>\n",
       "      <th>INC_KEY</th>\n",
       "      <th>ICDPROCEDURECODE</th>\n",
       "      <th>PROCEDUREMINS</th>\n",
       "      <th>PROCEDUREDAYS</th>\n",
       "    </tr>\n",
       "  </thead>\n",
       "  <tbody>\n",
       "    <tr>\n",
       "      <th>8989</th>\n",
       "      <td>170000020367</td>\n",
       "      <td>Insertion of Infusion Device into Right Femora...</td>\n",
       "      <td>7.0</td>\n",
       "      <td>1.0</td>\n",
       "    </tr>\n",
       "    <tr>\n",
       "      <th>8990</th>\n",
       "      <td>170000020367</td>\n",
       "      <td>Performance of Cardiac Output, Single, Manual</td>\n",
       "      <td>12.0</td>\n",
       "      <td>1.0</td>\n",
       "    </tr>\n",
       "    <tr>\n",
       "      <th>8991</th>\n",
       "      <td>170000020367</td>\n",
       "      <td>Repair Thoracic Aorta, Ascending/Arch, Open Ap...</td>\n",
       "      <td>12.0</td>\n",
       "      <td>1.0</td>\n",
       "    </tr>\n",
       "    <tr>\n",
       "      <th>8992</th>\n",
       "      <td>170000020367</td>\n",
       "      <td>Transfusion of Nonautologous Red Blood Cells i...</td>\n",
       "      <td>9.0</td>\n",
       "      <td>1.0</td>\n",
       "    </tr>\n",
       "    <tr>\n",
       "      <th>8993</th>\n",
       "      <td>170000020367</td>\n",
       "      <td>Transfusion of Nonautologous Frozen Plasma int...</td>\n",
       "      <td>NaN</td>\n",
       "      <td>NaN</td>\n",
       "    </tr>\n",
       "  </tbody>\n",
       "</table>\n",
       "</div>"
      ],
      "text/plain": [
       "           INC_KEY                                   ICDPROCEDURECODE  \\\n",
       "8989  170000020367  Insertion of Infusion Device into Right Femora...   \n",
       "8990  170000020367      Performance of Cardiac Output, Single, Manual   \n",
       "8991  170000020367  Repair Thoracic Aorta, Ascending/Arch, Open Ap...   \n",
       "8992  170000020367  Transfusion of Nonautologous Red Blood Cells i...   \n",
       "8993  170000020367  Transfusion of Nonautologous Frozen Plasma int...   \n",
       "\n",
       "      PROCEDUREMINS  PROCEDUREDAYS  \n",
       "8989            7.0            1.0  \n",
       "8990           12.0            1.0  \n",
       "8991           12.0            1.0  \n",
       "8992            9.0            1.0  \n",
       "8993            NaN            NaN  "
      ]
     },
     "metadata": {},
     "output_type": "display_data"
    },
    {
     "data": {
      "text/html": [
       "<div>\n",
       "<style scoped>\n",
       "    .dataframe tbody tr th:only-of-type {\n",
       "        vertical-align: middle;\n",
       "    }\n",
       "\n",
       "    .dataframe tbody tr th {\n",
       "        vertical-align: top;\n",
       "    }\n",
       "\n",
       "    .dataframe thead th {\n",
       "        text-align: right;\n",
       "    }\n",
       "</style>\n",
       "<table border=\"1\" class=\"dataframe\">\n",
       "  <thead>\n",
       "    <tr style=\"text-align: right;\">\n",
       "      <th></th>\n",
       "      <th>INC_KEY</th>\n",
       "      <th>PRIMARYECODEICD10</th>\n",
       "      <th>AGEYEARS</th>\n",
       "      <th>SEX</th>\n",
       "      <th>EDDISCHARGEDISPOSITION</th>\n",
       "      <th>HOSPDISCHARGEDISPOSITION</th>\n",
       "      <th>MECHANISM</th>\n",
       "      <th>TRAUMATYPE</th>\n",
       "    </tr>\n",
       "  </thead>\n",
       "  <tbody>\n",
       "    <tr>\n",
       "      <th>1825</th>\n",
       "      <td>170000018399</td>\n",
       "      <td>Assault by unspecified firearm discharge, init...</td>\n",
       "      <td>24.0</td>\n",
       "      <td>Male</td>\n",
       "      <td>Operating Room</td>\n",
       "      <td>Discharged/Transferred to inpatient rehab or d...</td>\n",
       "      <td>Firearm</td>\n",
       "      <td>Penetrating</td>\n",
       "    </tr>\n",
       "    <tr>\n",
       "      <th>2473</th>\n",
       "      <td>170000019911</td>\n",
       "      <td>Intentional self-harm by handgun discharge, in...</td>\n",
       "      <td>29.0</td>\n",
       "      <td>Male</td>\n",
       "      <td>Deceased/expired</td>\n",
       "      <td>NaN</td>\n",
       "      <td>Firearm</td>\n",
       "      <td>Penetrating</td>\n",
       "    </tr>\n",
       "    <tr>\n",
       "      <th>2784</th>\n",
       "      <td>170000020367</td>\n",
       "      <td>Assault by unspecified firearm discharge, init...</td>\n",
       "      <td>28.0</td>\n",
       "      <td>Male</td>\n",
       "      <td>Operating Room</td>\n",
       "      <td>Deceased/Expired</td>\n",
       "      <td>Firearm</td>\n",
       "      <td>Penetrating</td>\n",
       "    </tr>\n",
       "    <tr>\n",
       "      <th>2841</th>\n",
       "      <td>170000020428</td>\n",
       "      <td>Assault by unspecified firearm discharge, init...</td>\n",
       "      <td>17.0</td>\n",
       "      <td>Male</td>\n",
       "      <td>Deceased/expired</td>\n",
       "      <td>NaN</td>\n",
       "      <td>Firearm</td>\n",
       "      <td>Penetrating</td>\n",
       "    </tr>\n",
       "    <tr>\n",
       "      <th>3641</th>\n",
       "      <td>170000021290</td>\n",
       "      <td>Assault by unspecified firearm discharge, init...</td>\n",
       "      <td>30.0</td>\n",
       "      <td>Male</td>\n",
       "      <td>Operating Room</td>\n",
       "      <td>Deceased/Expired</td>\n",
       "      <td>Firearm</td>\n",
       "      <td>Penetrating</td>\n",
       "    </tr>\n",
       "  </tbody>\n",
       "</table>\n",
       "</div>"
      ],
      "text/plain": [
       "           INC_KEY                                  PRIMARYECODEICD10  \\\n",
       "1825  170000018399  Assault by unspecified firearm discharge, init...   \n",
       "2473  170000019911  Intentional self-harm by handgun discharge, in...   \n",
       "2784  170000020367  Assault by unspecified firearm discharge, init...   \n",
       "2841  170000020428  Assault by unspecified firearm discharge, init...   \n",
       "3641  170000021290  Assault by unspecified firearm discharge, init...   \n",
       "\n",
       "      AGEYEARS   SEX EDDISCHARGEDISPOSITION  \\\n",
       "1825      24.0  Male         Operating Room   \n",
       "2473      29.0  Male       Deceased/expired   \n",
       "2784      28.0  Male         Operating Room   \n",
       "2841      17.0  Male       Deceased/expired   \n",
       "3641      30.0  Male         Operating Room   \n",
       "\n",
       "                               HOSPDISCHARGEDISPOSITION MECHANISM   TRAUMATYPE  \n",
       "1825  Discharged/Transferred to inpatient rehab or d...   Firearm  Penetrating  \n",
       "2473                                                NaN   Firearm  Penetrating  \n",
       "2784                                   Deceased/Expired   Firearm  Penetrating  \n",
       "2841                                                NaN   Firearm  Penetrating  \n",
       "3641                                   Deceased/Expired   Firearm  Penetrating  "
      ]
     },
     "metadata": {},
     "output_type": "display_data"
    },
    {
     "data": {
      "text/plain": [
       "(1043736, 330)"
      ]
     },
     "metadata": {},
     "output_type": "display_data"
    },
    {
     "data": {
      "text/plain": [
       "(6591933, 6)"
      ]
     },
     "metadata": {},
     "output_type": "display_data"
    },
    {
     "data": {
      "text/plain": [
       "(80635, 3)"
      ]
     },
     "metadata": {},
     "output_type": "display_data"
    },
    {
     "data": {
      "text/plain": [
       "(3053, 6)"
      ]
     },
     "metadata": {},
     "output_type": "display_data"
    },
    {
     "data": {
      "text/plain": [
       "(6591933, 4)"
      ]
     },
     "metadata": {},
     "output_type": "display_data"
    },
    {
     "data": {
      "text/plain": [
       "(7453, 4)"
      ]
     },
     "metadata": {},
     "output_type": "display_data"
    },
    {
     "data": {
      "text/plain": [
       "(3038, 4)"
      ]
     },
     "metadata": {},
     "output_type": "display_data"
    },
    {
     "data": {
      "text/plain": [
       "(3014, 4)"
      ]
     },
     "metadata": {},
     "output_type": "display_data"
    },
    {
     "data": {
      "text/plain": [
       "(21997, 4)"
      ]
     },
     "metadata": {},
     "output_type": "display_data"
    },
    {
     "data": {
      "text/plain": [
       "(3053, 4)"
      ]
     },
     "metadata": {},
     "output_type": "display_data"
    },
    {
     "data": {
      "text/plain": [
       "(1043736, 6)"
      ]
     },
     "metadata": {},
     "output_type": "display_data"
    },
    {
     "data": {
      "text/plain": [
       "(1840, 6)"
      ]
     },
     "metadata": {},
     "output_type": "display_data"
    },
    {
     "data": {
      "text/html": [
       "<div>\n",
       "<style scoped>\n",
       "    .dataframe tbody tr th:only-of-type {\n",
       "        vertical-align: middle;\n",
       "    }\n",
       "\n",
       "    .dataframe tbody tr th {\n",
       "        vertical-align: top;\n",
       "    }\n",
       "\n",
       "    .dataframe thead th {\n",
       "        text-align: right;\n",
       "    }\n",
       "</style>\n",
       "<table border=\"1\" class=\"dataframe\">\n",
       "  <thead>\n",
       "    <tr style=\"text-align: right;\">\n",
       "      <th></th>\n",
       "      <th>INC_KEY</th>\n",
       "      <th>ICDPROCEDURECODE</th>\n",
       "      <th>PROCEDUREMINS</th>\n",
       "      <th>PROCEDUREDAYS</th>\n",
       "    </tr>\n",
       "  </thead>\n",
       "  <tbody>\n",
       "    <tr>\n",
       "      <th>8912</th>\n",
       "      <td>180014722297</td>\n",
       "      <td>Inspection of Heart, Open Approach</td>\n",
       "      <td>9.0</td>\n",
       "      <td>1.0</td>\n",
       "    </tr>\n",
       "    <tr>\n",
       "      <th>8913</th>\n",
       "      <td>180014722297</td>\n",
       "      <td>Performance of Cardiac Output, Single, Manual</td>\n",
       "      <td>2.0</td>\n",
       "      <td>1.0</td>\n",
       "    </tr>\n",
       "    <tr>\n",
       "      <th>8914</th>\n",
       "      <td>180014722297</td>\n",
       "      <td>Drainage of Right Pleural Cavity with Drainage...</td>\n",
       "      <td>4.0</td>\n",
       "      <td>1.0</td>\n",
       "    </tr>\n",
       "    <tr>\n",
       "      <th>9134</th>\n",
       "      <td>180014722297</td>\n",
       "      <td>Insertion of Endotracheal Airway into Trachea,...</td>\n",
       "      <td>10.0</td>\n",
       "      <td>1.0</td>\n",
       "    </tr>\n",
       "    <tr>\n",
       "      <th>9135</th>\n",
       "      <td>180014722297</td>\n",
       "      <td>Respiratory Ventilation, Less than 24 Consecut...</td>\n",
       "      <td>0.0</td>\n",
       "      <td>1.0</td>\n",
       "    </tr>\n",
       "  </tbody>\n",
       "</table>\n",
       "</div>"
      ],
      "text/plain": [
       "           INC_KEY                                   ICDPROCEDURECODE  \\\n",
       "8912  180014722297                 Inspection of Heart, Open Approach   \n",
       "8913  180014722297      Performance of Cardiac Output, Single, Manual   \n",
       "8914  180014722297  Drainage of Right Pleural Cavity with Drainage...   \n",
       "9134  180014722297  Insertion of Endotracheal Airway into Trachea,...   \n",
       "9135  180014722297  Respiratory Ventilation, Less than 24 Consecut...   \n",
       "\n",
       "      PROCEDUREMINS  PROCEDUREDAYS  \n",
       "8912            9.0            1.0  \n",
       "8913            2.0            1.0  \n",
       "8914            4.0            1.0  \n",
       "9134           10.0            1.0  \n",
       "9135            0.0            1.0  "
      ]
     },
     "metadata": {},
     "output_type": "display_data"
    },
    {
     "data": {
      "text/html": [
       "<div>\n",
       "<style scoped>\n",
       "    .dataframe tbody tr th:only-of-type {\n",
       "        vertical-align: middle;\n",
       "    }\n",
       "\n",
       "    .dataframe tbody tr th {\n",
       "        vertical-align: top;\n",
       "    }\n",
       "\n",
       "    .dataframe thead th {\n",
       "        text-align: right;\n",
       "    }\n",
       "</style>\n",
       "<table border=\"1\" class=\"dataframe\">\n",
       "  <thead>\n",
       "    <tr style=\"text-align: right;\">\n",
       "      <th></th>\n",
       "      <th>INC_KEY</th>\n",
       "      <th>PRIMARYECODEICD10</th>\n",
       "      <th>AGEYEARS</th>\n",
       "      <th>SEX</th>\n",
       "      <th>EDDISCHARGEDISPOSITION</th>\n",
       "      <th>HOSPDISCHARGEDISPOSITION</th>\n",
       "      <th>MECHANISM</th>\n",
       "      <th>TRAUMATYPE</th>\n",
       "    </tr>\n",
       "  </thead>\n",
       "  <tbody>\n",
       "    <tr>\n",
       "      <th>2646</th>\n",
       "      <td>180008925015</td>\n",
       "      <td>Assault by unspecified firearm discharge, init...</td>\n",
       "      <td>24.0</td>\n",
       "      <td>Male</td>\n",
       "      <td>Deceased/expired</td>\n",
       "      <td>NaN</td>\n",
       "      <td>Firearm</td>\n",
       "      <td>Penetrating</td>\n",
       "    </tr>\n",
       "    <tr>\n",
       "      <th>3257</th>\n",
       "      <td>180008925878</td>\n",
       "      <td>Assault by unspecified firearm discharge, init...</td>\n",
       "      <td>71.0</td>\n",
       "      <td>Male</td>\n",
       "      <td>Operating Room</td>\n",
       "      <td>Deceased/Expired</td>\n",
       "      <td>Firearm</td>\n",
       "      <td>Penetrating</td>\n",
       "    </tr>\n",
       "    <tr>\n",
       "      <th>4440</th>\n",
       "      <td>180008930791</td>\n",
       "      <td>Assault by other firearm discharge, initial en...</td>\n",
       "      <td>22.0</td>\n",
       "      <td>Male</td>\n",
       "      <td>Operating Room</td>\n",
       "      <td>Deceased/Expired</td>\n",
       "      <td>Firearm</td>\n",
       "      <td>Penetrating</td>\n",
       "    </tr>\n",
       "    <tr>\n",
       "      <th>5618</th>\n",
       "      <td>180008939133</td>\n",
       "      <td>Caught, crushed, jammed, or pinched between mo...</td>\n",
       "      <td>38.0</td>\n",
       "      <td>Male</td>\n",
       "      <td>Operating Room</td>\n",
       "      <td>Deceased/Expired</td>\n",
       "      <td>Other specified and classifiable</td>\n",
       "      <td>Blunt</td>\n",
       "    </tr>\n",
       "    <tr>\n",
       "      <th>7239</th>\n",
       "      <td>180008941065</td>\n",
       "      <td>Car passenger injured in noncollision transpor...</td>\n",
       "      <td>47.0</td>\n",
       "      <td>Male</td>\n",
       "      <td>Deceased/expired</td>\n",
       "      <td>NaN</td>\n",
       "      <td>MVT Occupant</td>\n",
       "      <td>Blunt</td>\n",
       "    </tr>\n",
       "  </tbody>\n",
       "</table>\n",
       "</div>"
      ],
      "text/plain": [
       "           INC_KEY                                  PRIMARYECODEICD10  \\\n",
       "2646  180008925015  Assault by unspecified firearm discharge, init...   \n",
       "3257  180008925878  Assault by unspecified firearm discharge, init...   \n",
       "4440  180008930791  Assault by other firearm discharge, initial en...   \n",
       "5618  180008939133  Caught, crushed, jammed, or pinched between mo...   \n",
       "7239  180008941065  Car passenger injured in noncollision transpor...   \n",
       "\n",
       "      AGEYEARS   SEX EDDISCHARGEDISPOSITION HOSPDISCHARGEDISPOSITION  \\\n",
       "2646      24.0  Male       Deceased/expired                      NaN   \n",
       "3257      71.0  Male         Operating Room         Deceased/Expired   \n",
       "4440      22.0  Male         Operating Room         Deceased/Expired   \n",
       "5618      38.0  Male         Operating Room         Deceased/Expired   \n",
       "7239      47.0  Male       Deceased/expired                      NaN   \n",
       "\n",
       "                             MECHANISM   TRAUMATYPE  \n",
       "2646                           Firearm  Penetrating  \n",
       "3257                           Firearm  Penetrating  \n",
       "4440                           Firearm  Penetrating  \n",
       "5618  Other specified and classifiable        Blunt  \n",
       "7239                      MVT Occupant        Blunt  "
      ]
     },
     "metadata": {},
     "output_type": "display_data"
    },
    {
     "data": {
      "text/plain": [
       "(1097190, 304)"
      ]
     },
     "metadata": {},
     "output_type": "display_data"
    },
    {
     "data": {
      "text/plain": [
       "(7187257, 8)"
      ]
     },
     "metadata": {},
     "output_type": "display_data"
    },
    {
     "data": {
      "text/plain": [
       "(80635, 3)"
      ]
     },
     "metadata": {},
     "output_type": "display_data"
    },
    {
     "data": {
      "text/plain": [
       "(3013, 6)"
      ]
     },
     "metadata": {},
     "output_type": "display_data"
    },
    {
     "data": {
      "text/plain": [
       "(7187257, 4)"
      ]
     },
     "metadata": {},
     "output_type": "display_data"
    },
    {
     "data": {
      "text/plain": [
       "(8568, 4)"
      ]
     },
     "metadata": {},
     "output_type": "display_data"
    },
    {
     "data": {
      "text/plain": [
       "(3654, 4)"
      ]
     },
     "metadata": {},
     "output_type": "display_data"
    },
    {
     "data": {
      "text/plain": [
       "(3605, 4)"
      ]
     },
     "metadata": {},
     "output_type": "display_data"
    },
    {
     "data": {
      "text/plain": [
       "(26207, 4)"
      ]
     },
     "metadata": {},
     "output_type": "display_data"
    },
    {
     "data": {
      "text/plain": [
       "(3013, 4)"
      ]
     },
     "metadata": {},
     "output_type": "display_data"
    },
    {
     "data": {
      "text/plain": [
       "(1097190, 6)"
      ]
     },
     "metadata": {},
     "output_type": "display_data"
    },
    {
     "data": {
      "text/plain": [
       "(2038, 6)"
      ]
     },
     "metadata": {},
     "output_type": "display_data"
    },
    {
     "data": {
      "text/html": [
       "<div>\n",
       "<style scoped>\n",
       "    .dataframe tbody tr th:only-of-type {\n",
       "        vertical-align: middle;\n",
       "    }\n",
       "\n",
       "    .dataframe tbody tr th {\n",
       "        vertical-align: top;\n",
       "    }\n",
       "\n",
       "    .dataframe thead th {\n",
       "        text-align: right;\n",
       "    }\n",
       "</style>\n",
       "<table border=\"1\" class=\"dataframe\">\n",
       "  <thead>\n",
       "    <tr style=\"text-align: right;\">\n",
       "      <th></th>\n",
       "      <th>INC_KEY</th>\n",
       "      <th>ICDPROCEDURECODE</th>\n",
       "      <th>PROCEDUREMINS</th>\n",
       "      <th>PROCEDUREDAYS</th>\n",
       "    </tr>\n",
       "  </thead>\n",
       "  <tbody>\n",
       "    <tr>\n",
       "      <th>15472</th>\n",
       "      <td>190031200522</td>\n",
       "      <td>Drainage of Right Pleural Cavity with Drainage...</td>\n",
       "      <td>3.0</td>\n",
       "      <td>1.0</td>\n",
       "    </tr>\n",
       "    <tr>\n",
       "      <th>15473</th>\n",
       "      <td>190031200522</td>\n",
       "      <td>Inspection of Left Pleural Cavity, Open Approach</td>\n",
       "      <td>1.8</td>\n",
       "      <td>1.0</td>\n",
       "    </tr>\n",
       "    <tr>\n",
       "      <th>15474</th>\n",
       "      <td>190031200522</td>\n",
       "      <td>Occlusion of Thoracic Aorta, Descending with I...</td>\n",
       "      <td>3.0</td>\n",
       "      <td>1.0</td>\n",
       "    </tr>\n",
       "    <tr>\n",
       "      <th>15475</th>\n",
       "      <td>190031200522</td>\n",
       "      <td>Insertion of Endotracheal Airway into Trachea,...</td>\n",
       "      <td>6.0</td>\n",
       "      <td>1.0</td>\n",
       "    </tr>\n",
       "    <tr>\n",
       "      <th>15476</th>\n",
       "      <td>190031200522</td>\n",
       "      <td>Occlusion of Thoracic Aorta, Descending with I...</td>\n",
       "      <td>10.2</td>\n",
       "      <td>1.0</td>\n",
       "    </tr>\n",
       "  </tbody>\n",
       "</table>\n",
       "</div>"
      ],
      "text/plain": [
       "            INC_KEY                                   ICDPROCEDURECODE  \\\n",
       "15472  190031200522  Drainage of Right Pleural Cavity with Drainage...   \n",
       "15473  190031200522   Inspection of Left Pleural Cavity, Open Approach   \n",
       "15474  190031200522  Occlusion of Thoracic Aorta, Descending with I...   \n",
       "15475  190031200522  Insertion of Endotracheal Airway into Trachea,...   \n",
       "15476  190031200522  Occlusion of Thoracic Aorta, Descending with I...   \n",
       "\n",
       "       PROCEDUREMINS  PROCEDUREDAYS  \n",
       "15472            3.0            1.0  \n",
       "15473            1.8            1.0  \n",
       "15474            3.0            1.0  \n",
       "15475            6.0            1.0  \n",
       "15476           10.2            1.0  "
      ]
     },
     "metadata": {},
     "output_type": "display_data"
    },
    {
     "data": {
      "text/html": [
       "<div>\n",
       "<style scoped>\n",
       "    .dataframe tbody tr th:only-of-type {\n",
       "        vertical-align: middle;\n",
       "    }\n",
       "\n",
       "    .dataframe tbody tr th {\n",
       "        vertical-align: top;\n",
       "    }\n",
       "\n",
       "    .dataframe thead th {\n",
       "        text-align: right;\n",
       "    }\n",
       "</style>\n",
       "<table border=\"1\" class=\"dataframe\">\n",
       "  <thead>\n",
       "    <tr style=\"text-align: right;\">\n",
       "      <th></th>\n",
       "      <th>INC_KEY</th>\n",
       "      <th>PRIMARYECODEICD10</th>\n",
       "      <th>AGEYEARS</th>\n",
       "      <th>SEX</th>\n",
       "      <th>EDDISCHARGEDISPOSITION</th>\n",
       "      <th>HOSPDISCHARGEDISPOSITION</th>\n",
       "      <th>MECHANISM</th>\n",
       "      <th>TRAUMATYPE</th>\n",
       "    </tr>\n",
       "  </thead>\n",
       "  <tbody>\n",
       "    <tr>\n",
       "      <th>4</th>\n",
       "      <td>190026915241</td>\n",
       "      <td>\"Assault by unspecified sharp object, initial ...</td>\n",
       "      <td>47.0</td>\n",
       "      <td>Male</td>\n",
       "      <td>Operating Room</td>\n",
       "      <td>Deceased/Expired</td>\n",
       "      <td>Cut/pierce</td>\n",
       "      <td>Penetrating</td>\n",
       "    </tr>\n",
       "    <tr>\n",
       "      <th>19</th>\n",
       "      <td>190026915256</td>\n",
       "      <td>\"Assault by unspecified firearm discharge, ini...</td>\n",
       "      <td>40.0</td>\n",
       "      <td>Male</td>\n",
       "      <td>Operating Room</td>\n",
       "      <td>Deceased/Expired</td>\n",
       "      <td>Firearm</td>\n",
       "      <td>Penetrating</td>\n",
       "    </tr>\n",
       "    <tr>\n",
       "      <th>156</th>\n",
       "      <td>190026915393</td>\n",
       "      <td>\"Assault by other firearm discharge, initial e...</td>\n",
       "      <td>21.0</td>\n",
       "      <td>Male</td>\n",
       "      <td>Deceased/expired</td>\n",
       "      <td>NaN</td>\n",
       "      <td>Firearm</td>\n",
       "      <td>Penetrating</td>\n",
       "    </tr>\n",
       "    <tr>\n",
       "      <th>373</th>\n",
       "      <td>190026952522</td>\n",
       "      <td>\"Accidental discharge from unspecified firearm...</td>\n",
       "      <td>19.0</td>\n",
       "      <td>Male</td>\n",
       "      <td>Deceased/expired</td>\n",
       "      <td>NaN</td>\n",
       "      <td>Firearm</td>\n",
       "      <td>Penetrating</td>\n",
       "    </tr>\n",
       "    <tr>\n",
       "      <th>798</th>\n",
       "      <td>190026952949</td>\n",
       "      <td>\"Fall from, out of or through other building o...</td>\n",
       "      <td>42.0</td>\n",
       "      <td>Male</td>\n",
       "      <td>Operating Room</td>\n",
       "      <td>Deceased/Expired</td>\n",
       "      <td>Fall</td>\n",
       "      <td>Blunt</td>\n",
       "    </tr>\n",
       "  </tbody>\n",
       "</table>\n",
       "</div>"
      ],
      "text/plain": [
       "          INC_KEY                                  PRIMARYECODEICD10  \\\n",
       "4    190026915241  \"Assault by unspecified sharp object, initial ...   \n",
       "19   190026915256  \"Assault by unspecified firearm discharge, ini...   \n",
       "156  190026915393  \"Assault by other firearm discharge, initial e...   \n",
       "373  190026952522  \"Accidental discharge from unspecified firearm...   \n",
       "798  190026952949  \"Fall from, out of or through other building o...   \n",
       "\n",
       "     AGEYEARS   SEX EDDISCHARGEDISPOSITION HOSPDISCHARGEDISPOSITION  \\\n",
       "4        47.0  Male         Operating Room         Deceased/Expired   \n",
       "19       40.0  Male         Operating Room         Deceased/Expired   \n",
       "156      21.0  Male       Deceased/expired                      NaN   \n",
       "373      19.0  Male       Deceased/expired                      NaN   \n",
       "798      42.0  Male         Operating Room         Deceased/Expired   \n",
       "\n",
       "      MECHANISM   TRAUMATYPE  \n",
       "4    Cut/pierce  Penetrating  \n",
       "19      Firearm  Penetrating  \n",
       "156     Firearm  Penetrating  \n",
       "373     Firearm  Penetrating  \n",
       "798        Fall        Blunt  "
      ]
     },
     "metadata": {},
     "output_type": "display_data"
    },
    {
     "data": {
      "text/plain": [
       "(1135018, 283)"
      ]
     },
     "metadata": {},
     "output_type": "display_data"
    },
    {
     "data": {
      "text/plain": [
       "(7722096, 8)"
      ]
     },
     "metadata": {},
     "output_type": "display_data"
    },
    {
     "data": {
      "text/plain": [
       "(81959, 3)"
      ]
     },
     "metadata": {},
     "output_type": "display_data"
    },
    {
     "data": {
      "text/plain": [
       "(3054, 6)"
      ]
     },
     "metadata": {},
     "output_type": "display_data"
    },
    {
     "data": {
      "text/plain": [
       "(7722096, 4)"
      ]
     },
     "metadata": {},
     "output_type": "display_data"
    },
    {
     "data": {
      "text/plain": [
       "(9991, 4)"
      ]
     },
     "metadata": {},
     "output_type": "display_data"
    },
    {
     "data": {
      "text/plain": [
       "(4432, 4)"
      ]
     },
     "metadata": {},
     "output_type": "display_data"
    },
    {
     "data": {
      "text/plain": [
       "(4395, 4)"
      ]
     },
     "metadata": {},
     "output_type": "display_data"
    },
    {
     "data": {
      "text/plain": [
       "(31781, 4)"
      ]
     },
     "metadata": {},
     "output_type": "display_data"
    },
    {
     "data": {
      "text/plain": [
       "(3054, 4)"
      ]
     },
     "metadata": {},
     "output_type": "display_data"
    },
    {
     "data": {
      "text/plain": [
       "(1135018, 6)"
      ]
     },
     "metadata": {},
     "output_type": "display_data"
    },
    {
     "data": {
      "text/plain": [
       "(2594, 6)"
      ]
     },
     "metadata": {},
     "output_type": "display_data"
    },
    {
     "data": {
      "text/html": [
       "<div>\n",
       "<style scoped>\n",
       "    .dataframe tbody tr th:only-of-type {\n",
       "        vertical-align: middle;\n",
       "    }\n",
       "\n",
       "    .dataframe tbody tr th {\n",
       "        vertical-align: top;\n",
       "    }\n",
       "\n",
       "    .dataframe thead th {\n",
       "        text-align: right;\n",
       "    }\n",
       "</style>\n",
       "<table border=\"1\" class=\"dataframe\">\n",
       "  <thead>\n",
       "    <tr style=\"text-align: right;\">\n",
       "      <th></th>\n",
       "      <th>INC_KEY</th>\n",
       "      <th>ICDPROCEDURECODE</th>\n",
       "      <th>PROCEDUREMINS</th>\n",
       "      <th>PROCEDUREDAYS</th>\n",
       "    </tr>\n",
       "  </thead>\n",
       "  <tbody>\n",
       "    <tr>\n",
       "      <th>13404</th>\n",
       "      <td>200043224492</td>\n",
       "      <td>Repair Heart, Open Approach</td>\n",
       "      <td>49.8</td>\n",
       "      <td>1.0</td>\n",
       "    </tr>\n",
       "    <tr>\n",
       "      <th>13405</th>\n",
       "      <td>200043224492</td>\n",
       "      <td>Insertion of Intraluminal Device into Right Fe...</td>\n",
       "      <td>NaN</td>\n",
       "      <td>1.0</td>\n",
       "    </tr>\n",
       "    <tr>\n",
       "      <th>13406</th>\n",
       "      <td>200043224492</td>\n",
       "      <td>Insertion of Infusion Device into Right Femora...</td>\n",
       "      <td>NaN</td>\n",
       "      <td>1.0</td>\n",
       "    </tr>\n",
       "    <tr>\n",
       "      <th>13407</th>\n",
       "      <td>200043224492</td>\n",
       "      <td>Excision of Spleen, Open Approach</td>\n",
       "      <td>49.8</td>\n",
       "      <td>1.0</td>\n",
       "    </tr>\n",
       "    <tr>\n",
       "      <th>13408</th>\n",
       "      <td>200043224492</td>\n",
       "      <td>Excision of Left Lung, Open Approach</td>\n",
       "      <td>49.8</td>\n",
       "      <td>1.0</td>\n",
       "    </tr>\n",
       "  </tbody>\n",
       "</table>\n",
       "</div>"
      ],
      "text/plain": [
       "            INC_KEY                                   ICDPROCEDURECODE  \\\n",
       "13404  200043224492                        Repair Heart, Open Approach   \n",
       "13405  200043224492  Insertion of Intraluminal Device into Right Fe...   \n",
       "13406  200043224492  Insertion of Infusion Device into Right Femora...   \n",
       "13407  200043224492                  Excision of Spleen, Open Approach   \n",
       "13408  200043224492               Excision of Left Lung, Open Approach   \n",
       "\n",
       "       PROCEDUREMINS  PROCEDUREDAYS  \n",
       "13404           49.8            1.0  \n",
       "13405            NaN            1.0  \n",
       "13406            NaN            1.0  \n",
       "13407           49.8            1.0  \n",
       "13408           49.8            1.0  "
      ]
     },
     "metadata": {},
     "output_type": "display_data"
    },
    {
     "data": {
      "text/html": [
       "<div>\n",
       "<style scoped>\n",
       "    .dataframe tbody tr th:only-of-type {\n",
       "        vertical-align: middle;\n",
       "    }\n",
       "\n",
       "    .dataframe tbody tr th {\n",
       "        vertical-align: top;\n",
       "    }\n",
       "\n",
       "    .dataframe thead th {\n",
       "        text-align: right;\n",
       "    }\n",
       "</style>\n",
       "<table border=\"1\" class=\"dataframe\">\n",
       "  <thead>\n",
       "    <tr style=\"text-align: right;\">\n",
       "      <th></th>\n",
       "      <th>INC_KEY</th>\n",
       "      <th>PRIMARYECODEICD10</th>\n",
       "      <th>AGEYEARS</th>\n",
       "      <th>SEX</th>\n",
       "      <th>EDDISCHARGEDISPOSITION</th>\n",
       "      <th>HOSPDISCHARGEDISPOSITION</th>\n",
       "      <th>MECHANISM</th>\n",
       "      <th>TRAUMATYPE</th>\n",
       "    </tr>\n",
       "  </thead>\n",
       "  <tbody>\n",
       "    <tr>\n",
       "      <th>2010</th>\n",
       "      <td>200043224492</td>\n",
       "      <td>\"Intentional self-harm by handgun discharge, i...</td>\n",
       "      <td>26.0</td>\n",
       "      <td>Female</td>\n",
       "      <td>Operating Room</td>\n",
       "      <td>Deceased/Expired</td>\n",
       "      <td>Firearm</td>\n",
       "      <td>Penetrating</td>\n",
       "    </tr>\n",
       "    <tr>\n",
       "      <th>2871</th>\n",
       "      <td>200043277334</td>\n",
       "      <td>\"Pedestrian on foot injured in collision with ...</td>\n",
       "      <td>60.0</td>\n",
       "      <td>Male</td>\n",
       "      <td>Deceased/expired</td>\n",
       "      <td>NaN</td>\n",
       "      <td>MVT Pedestrian</td>\n",
       "      <td>Blunt</td>\n",
       "    </tr>\n",
       "    <tr>\n",
       "      <th>6882</th>\n",
       "      <td>200043448103</td>\n",
       "      <td>\"Assault by unspecified firearm discharge, ini...</td>\n",
       "      <td>37.0</td>\n",
       "      <td>Male</td>\n",
       "      <td>Deceased/expired</td>\n",
       "      <td>NaN</td>\n",
       "      <td>Firearm</td>\n",
       "      <td>Penetrating</td>\n",
       "    </tr>\n",
       "    <tr>\n",
       "      <th>7027</th>\n",
       "      <td>200043448248</td>\n",
       "      <td>\"Assault by unspecified firearm discharge, ini...</td>\n",
       "      <td>41.0</td>\n",
       "      <td>Male</td>\n",
       "      <td>Operating Room</td>\n",
       "      <td>Deceased/Expired</td>\n",
       "      <td>Firearm</td>\n",
       "      <td>Penetrating</td>\n",
       "    </tr>\n",
       "    <tr>\n",
       "      <th>7271</th>\n",
       "      <td>200043475663</td>\n",
       "      <td>\"Assault by unspecified firearm discharge, ini...</td>\n",
       "      <td>20.0</td>\n",
       "      <td>Male</td>\n",
       "      <td>Operating Room</td>\n",
       "      <td>Deceased/Expired</td>\n",
       "      <td>Firearm</td>\n",
       "      <td>Penetrating</td>\n",
       "    </tr>\n",
       "  </tbody>\n",
       "</table>\n",
       "</div>"
      ],
      "text/plain": [
       "           INC_KEY                                  PRIMARYECODEICD10  \\\n",
       "2010  200043224492  \"Intentional self-harm by handgun discharge, i...   \n",
       "2871  200043277334  \"Pedestrian on foot injured in collision with ...   \n",
       "6882  200043448103  \"Assault by unspecified firearm discharge, ini...   \n",
       "7027  200043448248  \"Assault by unspecified firearm discharge, ini...   \n",
       "7271  200043475663  \"Assault by unspecified firearm discharge, ini...   \n",
       "\n",
       "      AGEYEARS     SEX EDDISCHARGEDISPOSITION HOSPDISCHARGEDISPOSITION  \\\n",
       "2010      26.0  Female         Operating Room         Deceased/Expired   \n",
       "2871      60.0    Male       Deceased/expired                      NaN   \n",
       "6882      37.0    Male       Deceased/expired                      NaN   \n",
       "7027      41.0    Male         Operating Room         Deceased/Expired   \n",
       "7271      20.0    Male         Operating Room         Deceased/Expired   \n",
       "\n",
       "           MECHANISM   TRAUMATYPE  \n",
       "2010         Firearm  Penetrating  \n",
       "2871  MVT Pedestrian        Blunt  \n",
       "6882         Firearm  Penetrating  \n",
       "7027         Firearm  Penetrating  \n",
       "7271         Firearm  Penetrating  "
      ]
     },
     "metadata": {},
     "output_type": "display_data"
    },
    {
     "data": {
      "text/plain": [
       "(1209097, 233)"
      ]
     },
     "metadata": {},
     "output_type": "display_data"
    },
    {
     "data": {
      "text/plain": [
       "(8619372, 8)"
      ]
     },
     "metadata": {},
     "output_type": "display_data"
    },
    {
     "data": {
      "text/plain": [
       "(81959, 3)"
      ]
     },
     "metadata": {},
     "output_type": "display_data"
    },
    {
     "data": {
      "text/plain": [
       "(1904, 6)"
      ]
     },
     "metadata": {},
     "output_type": "display_data"
    },
    {
     "data": {
      "text/plain": [
       "(8619372, 4)"
      ]
     },
     "metadata": {},
     "output_type": "display_data"
    },
    {
     "data": {
      "text/plain": [
       "(11452, 4)"
      ]
     },
     "metadata": {},
     "output_type": "display_data"
    },
    {
     "data": {
      "text/plain": [
       "(5168, 4)"
      ]
     },
     "metadata": {},
     "output_type": "display_data"
    },
    {
     "data": {
      "text/plain": [
       "(5117, 4)"
      ]
     },
     "metadata": {},
     "output_type": "display_data"
    },
    {
     "data": {
      "text/plain": [
       "(38176, 4)"
      ]
     },
     "metadata": {},
     "output_type": "display_data"
    },
    {
     "data": {
      "text/plain": [
       "(1904, 4)"
      ]
     },
     "metadata": {},
     "output_type": "display_data"
    },
    {
     "data": {
      "text/plain": [
       "(1209097, 6)"
      ]
     },
     "metadata": {},
     "output_type": "display_data"
    },
    {
     "data": {
      "text/plain": [
       "(2953, 6)"
      ]
     },
     "metadata": {},
     "output_type": "display_data"
    },
    {
     "data": {
      "text/html": [
       "<div>\n",
       "<style scoped>\n",
       "    .dataframe tbody tr th:only-of-type {\n",
       "        vertical-align: middle;\n",
       "    }\n",
       "\n",
       "    .dataframe tbody tr th {\n",
       "        vertical-align: top;\n",
       "    }\n",
       "\n",
       "    .dataframe thead th {\n",
       "        text-align: right;\n",
       "    }\n",
       "</style>\n",
       "<table border=\"1\" class=\"dataframe\">\n",
       "  <thead>\n",
       "    <tr style=\"text-align: right;\">\n",
       "      <th></th>\n",
       "      <th>INC_KEY</th>\n",
       "      <th>ICDPROCEDURECODE</th>\n",
       "      <th>PROCEDUREMINS</th>\n",
       "      <th>PROCEDUREDAYS</th>\n",
       "    </tr>\n",
       "  </thead>\n",
       "  <tbody>\n",
       "    <tr>\n",
       "      <th>12941</th>\n",
       "      <td>210057983007</td>\n",
       "      <td>Occlusion of Thoracic Aorta, Descending with I...</td>\n",
       "      <td>NaN</td>\n",
       "      <td>1.0</td>\n",
       "    </tr>\n",
       "    <tr>\n",
       "      <th>12942</th>\n",
       "      <td>210057983007</td>\n",
       "      <td>Repair Heart, Open Approach</td>\n",
       "      <td>1.8</td>\n",
       "      <td>1.0</td>\n",
       "    </tr>\n",
       "    <tr>\n",
       "      <th>12943</th>\n",
       "      <td>210057983007</td>\n",
       "      <td>Insertion of Infusion Device into Right Subcla...</td>\n",
       "      <td>NaN</td>\n",
       "      <td>1.0</td>\n",
       "    </tr>\n",
       "    <tr>\n",
       "      <th>12944</th>\n",
       "      <td>210057983007</td>\n",
       "      <td>Insertion of Endotracheal Airway into Trachea,...</td>\n",
       "      <td>1.8</td>\n",
       "      <td>1.0</td>\n",
       "    </tr>\n",
       "    <tr>\n",
       "      <th>12945</th>\n",
       "      <td>210057983007</td>\n",
       "      <td>Drainage of Right Pleural Cavity with Drainage...</td>\n",
       "      <td>6.0</td>\n",
       "      <td>1.0</td>\n",
       "    </tr>\n",
       "  </tbody>\n",
       "</table>\n",
       "</div>"
      ],
      "text/plain": [
       "            INC_KEY                                   ICDPROCEDURECODE  \\\n",
       "12941  210057983007  Occlusion of Thoracic Aorta, Descending with I...   \n",
       "12942  210057983007                        Repair Heart, Open Approach   \n",
       "12943  210057983007  Insertion of Infusion Device into Right Subcla...   \n",
       "12944  210057983007  Insertion of Endotracheal Airway into Trachea,...   \n",
       "12945  210057983007  Drainage of Right Pleural Cavity with Drainage...   \n",
       "\n",
       "       PROCEDUREMINS  PROCEDUREDAYS  \n",
       "12941            NaN            1.0  \n",
       "12942            1.8            1.0  \n",
       "12943            NaN            1.0  \n",
       "12944            1.8            1.0  \n",
       "12945            6.0            1.0  "
      ]
     },
     "metadata": {},
     "output_type": "display_data"
    },
    {
     "data": {
      "text/html": [
       "<div>\n",
       "<style scoped>\n",
       "    .dataframe tbody tr th:only-of-type {\n",
       "        vertical-align: middle;\n",
       "    }\n",
       "\n",
       "    .dataframe tbody tr th {\n",
       "        vertical-align: top;\n",
       "    }\n",
       "\n",
       "    .dataframe thead th {\n",
       "        text-align: right;\n",
       "    }\n",
       "</style>\n",
       "<table border=\"1\" class=\"dataframe\">\n",
       "  <thead>\n",
       "    <tr style=\"text-align: right;\">\n",
       "      <th></th>\n",
       "      <th>INC_KEY</th>\n",
       "      <th>PRIMARYECODEICD10</th>\n",
       "      <th>AGEYEARS</th>\n",
       "      <th>SEX</th>\n",
       "      <th>EDDISCHARGEDISPOSITION</th>\n",
       "      <th>HOSPDISCHARGEDISPOSITION</th>\n",
       "      <th>MECHANISM</th>\n",
       "      <th>TRAUMATYPE</th>\n",
       "    </tr>\n",
       "  </thead>\n",
       "  <tbody>\n",
       "    <tr>\n",
       "      <th>1695</th>\n",
       "      <td>210057983007</td>\n",
       "      <td>\"Assault by handgun discharge, initial encounter\"</td>\n",
       "      <td>29.0</td>\n",
       "      <td>Male</td>\n",
       "      <td>Deceased/expired</td>\n",
       "      <td>NaN</td>\n",
       "      <td>Firearm</td>\n",
       "      <td>Penetrating</td>\n",
       "    </tr>\n",
       "    <tr>\n",
       "      <th>1714</th>\n",
       "      <td>210057983028</td>\n",
       "      <td>\"Assault by handgun discharge, initial encounter\"</td>\n",
       "      <td>26.0</td>\n",
       "      <td>Male</td>\n",
       "      <td>Deceased/expired</td>\n",
       "      <td>NaN</td>\n",
       "      <td>Firearm</td>\n",
       "      <td>Penetrating</td>\n",
       "    </tr>\n",
       "    <tr>\n",
       "      <th>1764</th>\n",
       "      <td>210057983081</td>\n",
       "      <td>\"Assault by handgun discharge, initial encounter\"</td>\n",
       "      <td>NaN</td>\n",
       "      <td>Male</td>\n",
       "      <td>Deceased/expired</td>\n",
       "      <td>NaN</td>\n",
       "      <td>Firearm</td>\n",
       "      <td>Penetrating</td>\n",
       "    </tr>\n",
       "    <tr>\n",
       "      <th>1828</th>\n",
       "      <td>210057983156</td>\n",
       "      <td>\"Assault by handgun discharge, initial encounter\"</td>\n",
       "      <td>NaN</td>\n",
       "      <td>Male</td>\n",
       "      <td>Operating Room</td>\n",
       "      <td>Deceased/Expired</td>\n",
       "      <td>Firearm</td>\n",
       "      <td>Penetrating</td>\n",
       "    </tr>\n",
       "    <tr>\n",
       "      <th>1843</th>\n",
       "      <td>210057983176</td>\n",
       "      <td>\"Assault by handgun discharge, initial encounter\"</td>\n",
       "      <td>24.0</td>\n",
       "      <td>Male</td>\n",
       "      <td>Deceased/expired</td>\n",
       "      <td>NaN</td>\n",
       "      <td>Firearm</td>\n",
       "      <td>Penetrating</td>\n",
       "    </tr>\n",
       "  </tbody>\n",
       "</table>\n",
       "</div>"
      ],
      "text/plain": [
       "           INC_KEY                                  PRIMARYECODEICD10  \\\n",
       "1695  210057983007  \"Assault by handgun discharge, initial encounter\"   \n",
       "1714  210057983028  \"Assault by handgun discharge, initial encounter\"   \n",
       "1764  210057983081  \"Assault by handgun discharge, initial encounter\"   \n",
       "1828  210057983156  \"Assault by handgun discharge, initial encounter\"   \n",
       "1843  210057983176  \"Assault by handgun discharge, initial encounter\"   \n",
       "\n",
       "      AGEYEARS   SEX EDDISCHARGEDISPOSITION HOSPDISCHARGEDISPOSITION  \\\n",
       "1695      29.0  Male       Deceased/expired                      NaN   \n",
       "1714      26.0  Male       Deceased/expired                      NaN   \n",
       "1764       NaN  Male       Deceased/expired                      NaN   \n",
       "1828       NaN  Male         Operating Room         Deceased/Expired   \n",
       "1843      24.0  Male       Deceased/expired                      NaN   \n",
       "\n",
       "     MECHANISM   TRAUMATYPE  \n",
       "1695   Firearm  Penetrating  \n",
       "1714   Firearm  Penetrating  \n",
       "1764   Firearm  Penetrating  \n",
       "1828   Firearm  Penetrating  \n",
       "1843   Firearm  Penetrating  "
      ]
     },
     "metadata": {},
     "output_type": "display_data"
    },
    {
     "data": {
      "text/plain": [
       "(1232956, 231)"
      ]
     },
     "metadata": {},
     "output_type": "display_data"
    },
    {
     "data": {
      "text/plain": [
       "(8965192, 8)"
      ]
     },
     "metadata": {},
     "output_type": "display_data"
    },
    {
     "data": {
      "text/plain": [
       "(82504, 3)"
      ]
     },
     "metadata": {},
     "output_type": "display_data"
    },
    {
     "data": {
      "text/plain": [
       "(2063, 6)"
      ]
     },
     "metadata": {},
     "output_type": "display_data"
    },
    {
     "data": {
      "text/plain": [
       "(8965192, 4)"
      ]
     },
     "metadata": {},
     "output_type": "display_data"
    },
    {
     "data": {
      "text/plain": [
       "(11334, 4)"
      ]
     },
     "metadata": {},
     "output_type": "display_data"
    },
    {
     "data": {
      "text/plain": [
       "(5339, 4)"
      ]
     },
     "metadata": {},
     "output_type": "display_data"
    },
    {
     "data": {
      "text/plain": [
       "(5310, 4)"
      ]
     },
     "metadata": {},
     "output_type": "display_data"
    },
    {
     "data": {
      "text/plain": [
       "(36382, 4)"
      ]
     },
     "metadata": {},
     "output_type": "display_data"
    },
    {
     "data": {
      "text/plain": [
       "(2063, 4)"
      ]
     },
     "metadata": {},
     "output_type": "display_data"
    },
    {
     "data": {
      "text/plain": [
       "(1232956, 6)"
      ]
     },
     "metadata": {},
     "output_type": "display_data"
    },
    {
     "data": {
      "text/plain": [
       "(2864, 6)"
      ]
     },
     "metadata": {},
     "output_type": "display_data"
    },
    {
     "data": {
      "text/html": [
       "<div>\n",
       "<style scoped>\n",
       "    .dataframe tbody tr th:only-of-type {\n",
       "        vertical-align: middle;\n",
       "    }\n",
       "\n",
       "    .dataframe tbody tr th {\n",
       "        vertical-align: top;\n",
       "    }\n",
       "\n",
       "    .dataframe thead th {\n",
       "        text-align: right;\n",
       "    }\n",
       "</style>\n",
       "<table border=\"1\" class=\"dataframe\">\n",
       "  <thead>\n",
       "    <tr style=\"text-align: right;\">\n",
       "      <th></th>\n",
       "      <th>INC_KEY</th>\n",
       "      <th>ICDPROCEDURECODE</th>\n",
       "      <th>PROCEDUREMINS</th>\n",
       "      <th>PROCEDUREDAYS</th>\n",
       "    </tr>\n",
       "  </thead>\n",
       "  <tbody>\n",
       "    <tr>\n",
       "      <th>4686</th>\n",
       "      <td>220063640246</td>\n",
       "      <td>Insertion of Endotracheal Airway into Trachea,...</td>\n",
       "      <td>3.0</td>\n",
       "      <td>1.0</td>\n",
       "    </tr>\n",
       "    <tr>\n",
       "      <th>4687</th>\n",
       "      <td>220063640246</td>\n",
       "      <td>Drainage of Right Pleural Cavity with Drainage...</td>\n",
       "      <td>4.2</td>\n",
       "      <td>1.0</td>\n",
       "    </tr>\n",
       "    <tr>\n",
       "      <th>4688</th>\n",
       "      <td>220063640246</td>\n",
       "      <td>Drainage of Left Pleural Cavity with Drainage ...</td>\n",
       "      <td>4.8</td>\n",
       "      <td>1.0</td>\n",
       "    </tr>\n",
       "    <tr>\n",
       "      <th>4689</th>\n",
       "      <td>220063640246</td>\n",
       "      <td>Inspection of Right Pleural Cavity, Open Approach</td>\n",
       "      <td>4.8</td>\n",
       "      <td>1.0</td>\n",
       "    </tr>\n",
       "    <tr>\n",
       "      <th>4690</th>\n",
       "      <td>220063640246</td>\n",
       "      <td>Inspection of Left Pleural Cavity, Open Approach</td>\n",
       "      <td>4.8</td>\n",
       "      <td>1.0</td>\n",
       "    </tr>\n",
       "  </tbody>\n",
       "</table>\n",
       "</div>"
      ],
      "text/plain": [
       "           INC_KEY                                   ICDPROCEDURECODE  \\\n",
       "4686  220063640246  Insertion of Endotracheal Airway into Trachea,...   \n",
       "4687  220063640246  Drainage of Right Pleural Cavity with Drainage...   \n",
       "4688  220063640246  Drainage of Left Pleural Cavity with Drainage ...   \n",
       "4689  220063640246  Inspection of Right Pleural Cavity, Open Approach   \n",
       "4690  220063640246   Inspection of Left Pleural Cavity, Open Approach   \n",
       "\n",
       "      PROCEDUREMINS  PROCEDUREDAYS  \n",
       "4686            3.0            1.0  \n",
       "4687            4.2            1.0  \n",
       "4688            4.8            1.0  \n",
       "4689            4.8            1.0  \n",
       "4690            4.8            1.0  "
      ]
     },
     "metadata": {},
     "output_type": "display_data"
    },
    {
     "data": {
      "text/html": [
       "<div>\n",
       "<style scoped>\n",
       "    .dataframe tbody tr th:only-of-type {\n",
       "        vertical-align: middle;\n",
       "    }\n",
       "\n",
       "    .dataframe tbody tr th {\n",
       "        vertical-align: top;\n",
       "    }\n",
       "\n",
       "    .dataframe thead th {\n",
       "        text-align: right;\n",
       "    }\n",
       "</style>\n",
       "<table border=\"1\" class=\"dataframe\">\n",
       "  <thead>\n",
       "    <tr style=\"text-align: right;\">\n",
       "      <th></th>\n",
       "      <th>INC_KEY</th>\n",
       "      <th>PRIMARYECODEICD10</th>\n",
       "      <th>AGEYEARS</th>\n",
       "      <th>SEX</th>\n",
       "      <th>EDDISCHARGEDISPOSITION</th>\n",
       "      <th>HOSPDISCHARGEDISPOSITION</th>\n",
       "      <th>MECHANISM</th>\n",
       "      <th>TRAUMATYPE</th>\n",
       "    </tr>\n",
       "  </thead>\n",
       "  <tbody>\n",
       "    <tr>\n",
       "      <th>736</th>\n",
       "      <td>220063640246</td>\n",
       "      <td>Assault by handgun discharge, initial encounter</td>\n",
       "      <td>58.0</td>\n",
       "      <td>Male</td>\n",
       "      <td>Deceased/expired</td>\n",
       "      <td>NaN</td>\n",
       "      <td>Firearm</td>\n",
       "      <td>Penetrating</td>\n",
       "    </tr>\n",
       "    <tr>\n",
       "      <th>783</th>\n",
       "      <td>220063640302</td>\n",
       "      <td>Pedestrian on foot injured in collision with c...</td>\n",
       "      <td>79.0</td>\n",
       "      <td>Male</td>\n",
       "      <td>Deceased/expired</td>\n",
       "      <td>NaN</td>\n",
       "      <td>MVT Pedestrian</td>\n",
       "      <td>Blunt</td>\n",
       "    </tr>\n",
       "    <tr>\n",
       "      <th>1302</th>\n",
       "      <td>220063657375</td>\n",
       "      <td>Assault by unspecified firearm discharge, init...</td>\n",
       "      <td>28.0</td>\n",
       "      <td>Male</td>\n",
       "      <td>Operating Room</td>\n",
       "      <td>Deceased/Expired</td>\n",
       "      <td>Firearm</td>\n",
       "      <td>Penetrating</td>\n",
       "    </tr>\n",
       "    <tr>\n",
       "      <th>1754</th>\n",
       "      <td>220063698586</td>\n",
       "      <td>Assault by unspecified firearm discharge, init...</td>\n",
       "      <td>17.0</td>\n",
       "      <td>Male</td>\n",
       "      <td>Deceased/expired</td>\n",
       "      <td>NaN</td>\n",
       "      <td>Firearm</td>\n",
       "      <td>Penetrating</td>\n",
       "    </tr>\n",
       "    <tr>\n",
       "      <th>3289</th>\n",
       "      <td>220063858158</td>\n",
       "      <td>Pedestrian on foot injured in collision with h...</td>\n",
       "      <td>38.0</td>\n",
       "      <td>Male</td>\n",
       "      <td>Operating Room</td>\n",
       "      <td>Deceased/Expired</td>\n",
       "      <td>MVT Pedestrian</td>\n",
       "      <td>Blunt</td>\n",
       "    </tr>\n",
       "  </tbody>\n",
       "</table>\n",
       "</div>"
      ],
      "text/plain": [
       "           INC_KEY                                  PRIMARYECODEICD10  \\\n",
       "736   220063640246    Assault by handgun discharge, initial encounter   \n",
       "783   220063640302  Pedestrian on foot injured in collision with c...   \n",
       "1302  220063657375  Assault by unspecified firearm discharge, init...   \n",
       "1754  220063698586  Assault by unspecified firearm discharge, init...   \n",
       "3289  220063858158  Pedestrian on foot injured in collision with h...   \n",
       "\n",
       "      AGEYEARS   SEX EDDISCHARGEDISPOSITION HOSPDISCHARGEDISPOSITION  \\\n",
       "736       58.0  Male       Deceased/expired                      NaN   \n",
       "783       79.0  Male       Deceased/expired                      NaN   \n",
       "1302      28.0  Male         Operating Room         Deceased/Expired   \n",
       "1754      17.0  Male       Deceased/expired                      NaN   \n",
       "3289      38.0  Male         Operating Room         Deceased/Expired   \n",
       "\n",
       "           MECHANISM   TRAUMATYPE  \n",
       "736          Firearm  Penetrating  \n",
       "783   MVT Pedestrian        Blunt  \n",
       "1302         Firearm  Penetrating  \n",
       "1754         Firearm  Penetrating  \n",
       "3289  MVT Pedestrian        Blunt  "
      ]
     },
     "metadata": {},
     "output_type": "display_data"
    }
   ],
   "source": [
    "data_fp = '/Users/JakeCanfield/Documents/Trauma_Surgery_Research/Data/Raw_data/PUF AY %i/CSV/'\n",
    "years = range(2017, 2023)\n",
    "thoracotomy_codes = ['0WJB0ZZ', '0WJ90ZZ', '02JA0ZZ', '02JY0ZZ', '0BJL0ZZ', '0BJK0ZZ', '0BJQ0ZZ','0WJ80ZZ', '0WJC0ZZ', '0WJD0ZZ', '02VW0CZ', '02QA0ZZ', '3E080GC']\n",
    "sternotomy_codes = ['0P800ZZ']\n",
    "\n",
    "mechanism_code_dict = {1:'Cut/pierce', 2:'Drowning/submersion', 3:'Fall', 4:'Fire/flame', 5:'Hot object/substance', 6:'Firearm', 7:'Machinery', 8:'MVT Occupant', 9:'MVT Motorcyclist', 10:'MVT Pedal cyclist', 11:'MVT Pedestrian', 12:'MVT Unspecified', 13:'MVT Other', 14:'Pedal cyclist, other', 15:'Pedestrian, other', 16:'Transport, other', 17:'Natural/environmental,  Bites and stings', 18:'Natural/environmental,  Other', 19:'Overexertion', 20:'Poisoning', 21:'Struck by, against', 22:'Suffocation', 23:'Other specified and classifiable', 24:'Other specified, not elsewhere classifiable', 25:'Unspecified', 26:'Adverse effects, medical care', 27:'Adverse effects, drugs'} # As noted in PUF dictionary\n",
    "trauma_type_code_dict = {1:'Blunt', 2:'Penetrating', 3:'Burn', 4:'Other/unspecified', 9:'Activity Code - Not Valid as a Primary E-Code'} # As noted in PUF Dictionary\n",
    "sex_code_dict = {1:'Male', 2:'Female'}\n",
    "eddischarge_code_dict = {1: 'Floor bed (general admission, non-specialty unit bed)', 2: 'Observation unit (unit that provides < 24 hour stays)', 3: 'Telemetry/step-down unit (less acuity than ICU)', 4: 'Home with services', 5: 'Deceased/expired', 6: 'Other (jail, institutional care, mental health, etc.)', 7: 'Operating Room', 8: 'Intensive Care Unit (ICU)', 9: 'Home without services', 10: 'Left against medical advice', 11: 'Transferred to another hospital'}\n",
    "hospdischarge_disposition_code_dict = {1: 'Discharged/Transferred to a short-term general hospital for inpatient care', 2: 'Discharged/Transferred to an Intermediate Care Facility (ICF)', 3: 'Discharged/Transferred to home under care of organized home health service', 4: 'Left against medical advice or discontinued care', 5: 'Deceased/Expired', 6: 'Discharged to home or self-care (routine discharge)', 7: 'Discharged/Transferred to Skilled Nursing Facility (SNF)', 8: 'Discharged/Transferred to hospice care', 10: 'Discharged/Transferred to court/law enforcement', 11: 'Discharged/Transferred to inpatient rehab or designated unit', 12: 'Discharged/Transferred to Long Term Care Hospital (LTCH)', 13: 'Discharged/Transferred to a psychiatric hospital or psychiatric distinct part unit of a hospital', 14: 'Discharged/Transferred to another type of institution not defined elsewhere'}\n",
    "\n",
    "\n",
    "for year in years:\n",
    "    \n",
    "    if year in range(2017, 2019):\n",
    "        TRAUMA_df = pd.read_csv(data_fp%year + 'PUF_TRAUMA.csv')\n",
    "        ICDPROCEDURE_df = pd.read_csv(data_fp%year + 'PUF_ICDPROCEDURE.csv')\n",
    "        ICDPROCEDURE_LOOKUP_df = pd.read_csv(data_fp%year + 'PUF_ICDPROCEDURE_LOOKUP.csv')\n",
    "        ECODE_LOOKUP_df = pd.read_csv(data_fp%year + 'PUF_ECODE_LOOKUP.csv')\n",
    "    elif year in range(2019, 2023):\n",
    "        TRAUMA_df = pd.read_csv(data_fp%year + 'PUF_TRAUMA.csv')\n",
    "        ICDPROCEDURE_df = pd.read_csv(data_fp%year + 'PUF_ICDPROCEDURE.csv')\n",
    "        ICDPROCEDURE_LOOKUP_df = pd.read_csv(data_fp%year + 'PUF_ICDPROCEDURE_LOOKUP.csv')\n",
    "        ECODE_LOOKUP_df = pd.read_csv(data_fp%year + 'PUF_ECODE_LOOKUP.csv')\n",
    "    \n",
    "    TRAUMA_df.columns = map(str.upper, TRAUMA_df.columns)\n",
    "    ICDPROCEDURE_df.columns = map(str.upper, ICDPROCEDURE_df.columns)\n",
    "    ICDPROCEDURE_LOOKUP_df.columns = map(str.upper, ICDPROCEDURE_LOOKUP_df.columns)\n",
    "    ECODE_LOOKUP_df.columns = map(str.upper, ECODE_LOOKUP_df.columns)\n",
    "    \n",
    "    if year in range(2019, 2023):\n",
    "        ICDPROCEDURE_df['PROCEDUREMINS'] = ICDPROCEDURE_df['HOSPITALPROCEDURESTARTHRS']*60\n",
    "        ICDPROCEDURE_df['PROCEDUREDAYS'] = ICDPROCEDURE_df['HOSPITALPROCEDURESTARTDAYS']\n",
    "    \n",
    "    ICDPROCEDURE_df = ICDPROCEDURE_df.loc[:, ['INC_KEY', 'ICDPROCEDURECODE', 'PROCEDUREMINS', 'PROCEDUREDAYS']]\n",
    "    potential_thoracotomy = ICDPROCEDURE_df.loc[ICDPROCEDURE_df['ICDPROCEDURECODE'].isin(thoracotomy_codes)]\n",
    "    potential_thoracotomy = potential_thoracotomy.loc[potential_thoracotomy['PROCEDUREMINS'] <= 20.0]\n",
    "    potential_thoracotomy = potential_thoracotomy.loc[potential_thoracotomy['PROCEDUREDAYS'] <= 1.0]\n",
    "    potential_thoracotomy_cases = np.unique(potential_thoracotomy['INC_KEY'])\n",
    "    sternotomy_cases = ICDPROCEDURE_df.loc[ICDPROCEDURE_df['ICDPROCEDURECODE'].isin(sternotomy_codes)]\n",
    "    sternotomy_cases = np.unique(sternotomy_cases['INC_KEY'])\n",
    "    thoracotomy_cases = [x for x in potential_thoracotomy_cases if x not in sternotomy_cases]\n",
    "    ICDPROCEDURE_df = ICDPROCEDURE_df.loc[ICDPROCEDURE_df['INC_KEY'].isin(thoracotomy_cases)]\n",
    "    \n",
    "    ICDPROCEDURE_LOOKUP_df = ICDPROCEDURE_LOOKUP_df.loc[:, ['ICDPROCEDURECODE', 'ICDPROCEDURECODE_DESC']]\n",
    "    ECODE_LOOKUP_df = ECODE_LOOKUP_df.loc[:, ['ECODE', 'ECODE_DESC', 'MECHANISM', 'TRAUMATYPE']]\n",
    "    \n",
    "    procedure_dict = dict(zip(ICDPROCEDURE_LOOKUP_df['ICDPROCEDURECODE'], ICDPROCEDURE_LOOKUP_df['ICDPROCEDURECODE_DESC'])) # create dictionary\n",
    "    ICDPROCEDURE_df['ICDPROCEDURECODE'] = ICDPROCEDURE_df['ICDPROCEDURECODE'].replace(procedure_dict) # implement dictionary\n",
    "    \n",
    "    trauma_cols = ['INC_KEY', 'PRIMARYECODEICD10', 'AGEYEARS', 'SEX', 'EDDISCHARGEDISPOSITION', 'HOSPDISCHARGEDISPOSITION']\n",
    "    #trauma_groups = ['EMS', 'BLOOD', 'PLASMA', 'PLATELETS', 'CRYOPRECIPITATE', 'HMRRHGCTRLSURG', 'WITHDRAWALLST']\n",
    "    #for group in trauma_groups:\n",
    "        #trauma_cols.extend([col for col in TRAUMA_df if col.startswith(group)])\n",
    "    #trauma_cols = [x for x in trauma_cols if 'BIU' not in x]\n",
    "    TRAUMA_df = TRAUMA_df.loc[:, trauma_cols]\n",
    "    TRAUMA_df = TRAUMA_df.loc[TRAUMA_df['INC_KEY'].isin(np.unique(ICDPROCEDURE_df['INC_KEY']))]\n",
    "    \n",
    "    ecode_dict = dict(zip(ECODE_LOOKUP_df['ECODE'], ECODE_LOOKUP_df['ECODE_DESC'])) # create dictionary\n",
    "    TRAUMA_df['PRIMARYECODEICD10'] = TRAUMA_df['PRIMARYECODEICD10'].replace(ecode_dict) # implement dictionary\n",
    "    \n",
    "    mechanism_dict = dict(zip(ECODE_LOOKUP_df['ECODE_DESC'], ECODE_LOOKUP_df['MECHANISM'])) # create dictionary\n",
    "    TRAUMA_df['MECHANISM'] = TRAUMA_df['PRIMARYECODEICD10'].map(mechanism_dict) # implement dictionary\n",
    "    \n",
    "    traumatype_dict = dict(zip(ECODE_LOOKUP_df['ECODE_DESC'], ECODE_LOOKUP_df['TRAUMATYPE'])) # create dictionary\n",
    "    TRAUMA_df['TRAUMATYPE'] = TRAUMA_df['PRIMARYECODEICD10'].map(traumatype_dict) # implement dictionary\n",
    "    \n",
    "    TRAUMA_df['MECHANISM'] = TRAUMA_df['MECHANISM'].replace(mechanism_code_dict) # implement dictionary\n",
    "    \n",
    "    TRAUMA_df['TRAUMATYPE'] = TRAUMA_df['TRAUMATYPE'].replace(trauma_type_code_dict) # implement dictionary\n",
    "    \n",
    "    TRAUMA_df['SEX'] = TRAUMA_df['SEX'].replace(sex_code_dict)\n",
    "    \n",
    "    TRAUMA_df['EDDISCHARGEDISPOSITION'] = TRAUMA_df['EDDISCHARGEDISPOSITION'].replace(eddischarge_code_dict) # implement dictionary\n",
    "    \n",
    "    TRAUMA_df['HOSPDISCHARGEDISPOSITION'] = TRAUMA_df['HOSPDISCHARGEDISPOSITION'].replace(hospdischarge_disposition_code_dict) # implement dictionary\n",
    "    \n",
    "    TRAUMA_df.to_csv('/Users/JakeCanfield/Documents/Trauma_Surgery_Research/data/Combined_data/TRAUMA_df_%i.csv'%year)\n",
    "    ICDPROCEDURE_df.to_csv('/Users/JakeCanfield/Documents/Trauma_Surgery_Research/data/Combined_data/ICDPROCEDURE_df_%i.csv'%year)\n",
    "    \n",
    "    display(ICDPROCEDURE_df.head())\n",
    "    display(TRAUMA_df.head())"
   ]
  },
  {
   "cell_type": "markdown",
   "metadata": {},
   "source": [
    "## Devising way to get thoracotomies that started on the left `ONLY`\n",
    "\n",
    "> Shouldn't be any right thoracotomies before left in true EDT protocol.\n",
    "\n",
    "> Also found in the data that there are additional thoracotomies performed on the same patient, sometimes as short as within 30 minutes of each other (i.e. at 18 min and 48 min following arrival to the ED)\n",
    "\n",
    "> Below code block needs to be tuned up to work correctly"
   ]
  },
  {
   "cell_type": "markdown",
   "metadata": {},
   "source": [
    "# What questions should I be asking next?\n",
    "\n",
    "1. Age guideline/ cutoff\n",
    "    - Create age vs mortality graph, hue = injury type\n",
    "    - Can compare over the years\n",
    "    - Histogram of age\n",
    "2. Mortality based on timing and performing EDT (mortality rate too excessive if not performed within x minutes)\n",
    "    - Mortality vs. PROCEDUREMINS for thoracotomy, hue = injury type\n",
    "3. Complications/ comorbidity\n",
    "    - probably has to be in a table format\n",
    "4. Evaluate WTA/ EAST guidelines vs not followed\n",
    "    - will be more complicated, could mainly focus on pre-hospital cpr time and sol for criteria"
   ]
  },
  {
   "cell_type": "markdown",
   "metadata": {},
   "source": [
    "# Progress:\n",
    "\n",
    "> Was able to generate table with some information (not everything) combined, in theory I think this is enough to do the project.\n",
    "\n",
    "> Next steps for today would be to create a dataframe that has `ED Mortality`, `Hospital Mortality` and `Overall Mortality` calculated for `2017 -  2022`. \n",
    "\n",
    "> We can use unique `INC_KEY` to select the unique individuals for the mortality calculations. In terms of data exploration of the data available, we can make the following figures:\n",
    "    - Histogram of age\n",
    "    - Bar plot comparing female vs male cases\n",
    "    - Plot showing number of `ICDPROCEDURECODE` used for various mechanisms of injury\n",
    "    - Plot showing people who died in the ED vs hospital\n",
    "    - Plot of injury type\n",
    "    - Plot of mechanism (i.e. firearm etc.)\n",
    "    - Plot of time to first procedure for each of the potential thoracotomy labels\n",
    "    - ED/ HOSP mortality vs age, hue = MOI, "
   ]
  }
 ],
 "metadata": {
  "kernelspec": {
   "display_name": "Python 3",
   "language": "python",
   "name": "python3"
  },
  "language_info": {
   "codemirror_mode": {
    "name": "ipython",
    "version": 3
   },
   "file_extension": ".py",
   "mimetype": "text/x-python",
   "name": "python",
   "nbconvert_exporter": "python",
   "pygments_lexer": "ipython3",
   "version": "3.7.3"
  }
 },
 "nbformat": 4,
 "nbformat_minor": 2
}
