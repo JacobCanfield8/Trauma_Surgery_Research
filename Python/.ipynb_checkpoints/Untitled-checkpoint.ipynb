{
 "cells": [
  {
   "cell_type": "code",
   "execution_count": null,
   "metadata": {},
   "outputs": [],
   "source": [
    "import numpy as np\n",
    "import pandas as pd\n",
    "import seaborn as sns\n",
    "import matplotlib.pyplot as plt\n",
    "%matplotlib inline\n",
    "import os\n",
    "from wordcloud import WordCloud\n",
    "from PyPDF2 import PdfReader\n",
    "import glob"
   ]
  },
  {
   "cell_type": "code",
   "execution_count": null,
   "metadata": {},
   "outputs": [],
   "source": [
    "trauma_path = '/Users/JakeCanfield/Documents/Trauma_Surgery_Research/'\n",
    "topics = os.listdir(trauma_path + 'Papers/')"
   ]
  },
  {
   "cell_type": "code",
   "execution_count": null,
   "metadata": {},
   "outputs": [],
   "source": [
    "df = pd.DataFrame(columns=['Topic', '# of Papers Read'])\n",
    "for i in topics:\n",
    "    papers = os.listdir(trauma_path+'Papers/'+'%s'%i)\n",
    "    papers = [i for i in papers if i != '.ipynb_checkpoints']\n",
    "    df = df.append({'Topic':i,'# of Papers Read':len(papers)}, ignore_index=True)\n",
    "df['# of Papers Read'] = df['# of Papers Read'].astype('int')"
   ]
  },
  {
   "cell_type": "code",
   "execution_count": null,
   "metadata": {},
   "outputs": [],
   "source": [
    "f = sns.barplot(y=df['Topic'], x=df['# of Papers Read'],palette='viridis')\n",
    "sns.set_style(\"darkgrid\", {\"axes.facecolor\": \".9\"})\n",
    "sns.set(rc={\"figure.dpi\":10000, 'savefig.dpi':300})\n",
    "plt.show()"
   ]
  },
  {
   "cell_type": "code",
   "execution_count": null,
   "metadata": {},
   "outputs": [],
   "source": [
    "pdfs = glob.glob(trauma_path +'Papers/*/*/*.pdf')\n",
    "words = []\n",
    "for i in pdfs:\n",
    "    reader = PdfReader(i)\n",
    "    npages = len(reader.pages)\n",
    "    for x in range(0,npages):\n",
    "        page = reader.pages[x]\n",
    "        text = page.extract_text().split()\n",
    "        for y in text:\n",
    "            print(y)\n",
    "            words.append(y)\n",
    "        print(words)\n",
    "    "
   ]
  },
  {
   "cell_type": "code",
   "execution_count": null,
   "metadata": {},
   "outputs": [],
   "source": []
  }
 ],
 "metadata": {
  "kernelspec": {
   "display_name": "Python 3",
   "language": "python",
   "name": "python3"
  },
  "language_info": {
   "codemirror_mode": {
    "name": "ipython",
    "version": 3
   },
   "file_extension": ".py",
   "mimetype": "text/x-python",
   "name": "python",
   "nbconvert_exporter": "python",
   "pygments_lexer": "ipython3",
   "version": "3.7.3"
  }
 },
 "nbformat": 4,
 "nbformat_minor": 2
}
