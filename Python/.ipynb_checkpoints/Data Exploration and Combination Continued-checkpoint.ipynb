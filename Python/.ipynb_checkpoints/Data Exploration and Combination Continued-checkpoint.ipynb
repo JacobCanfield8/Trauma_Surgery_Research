{
 "cells": [
  {
   "cell_type": "markdown",
   "metadata": {},
   "source": [
    "# Data Exploration and Combination Continued (2017 - 2022)"
   ]
  },
  {
   "cell_type": "markdown",
   "metadata": {},
   "source": [
    "#### Acknowledgements\n",
    "\n",
    "-  All data and rights to use the data for research purposes was legally obtained from the American College of Surgeons (ACS) as part of the National Trauma Data Bank (NTDB) Trauma Quality Improvement Program (TQIP) Research Dataset (RDS). All data used is de-identified and thus HIPAA compliant.\n",
    "\n",
    "- Access to the data was granted as a result of the affiliation of Cook County Hospital Healthcare System (CCHHS) and the Cook County Trauma and Burn Unit with the NTDB as contributors to the RDS.\n",
    "\n",
    "- This project does not have corporate sponsorships or other financial incentives, conflicts of interest etc. that influence the direction or decisions made in relation to the research.\n",
    "\n",
    "![Cook County Trauma and Burn Unit](https://www.kindpng.com/picc/m/745-7452961_fellows-cook-county-trauma-burn-unit-graphic-design.png)\n",
    "\n",
    "#### Purpose\n",
    "\n",
    "1. Combine the decompressed data files into a single file for easier use going forward.\n",
    "\n",
    "2. Determine the need for multiple data dictionaries and potentially create a single dictionary for all of the data.\n",
    "\n",
    "3. Explore the various data fields in each of the files downloaded from the NTDB TQIP RDS.\n",
    "\n",
    "#### Notes and Other Findings (Overview):\n",
    "\n",
    "\n",
    "#### Objectives\n",
    "\n",
    "- [ ] Send Julian files to select interesting/ medically relevant data fields from databank\n",
    "- [ ] Follow up with Dr. Brigode about his experience with NTDB\n",
    "- [ ] Standardize dataset across all years/ datafields etc. \n",
    "- [ ] Explore more datafields and relationships on my own. Especially for EMS related data.\n",
    "- [ ] Investigate results from my figures\n",
    "- [ ] Review other papers to see how they processed the data/ criteria used\n",
    "- [ ] Investigate data from `2017 - 2022` separately and also look for thoracotomy under other names i.e. `Inspection of Heart, Open Approach` (`ICD-10-PCS 02JA0ZZ`) **OR** `Inspection of Mediastinum, Open Approach` (`ICD-10-PCS 0WJC0ZZ`).\n",
    "\n",
    "# Table of Contents\n",
    "\n",
    "1. **_[Data Exploration and Combination Continued (2017 - 2022)](#Data-Exploration-and-Combination-Continued (2017---2022))_**\n",
    "\n",
    "\n"
   ]
  },
  {
   "cell_type": "markdown",
   "metadata": {},
   "source": [
    "# Create information for Julian to Give Clinical Insight"
   ]
  },
  {
   "cell_type": "code",
   "execution_count": 122,
   "metadata": {},
   "outputs": [],
   "source": [
    "import numpy as np\n",
    "import pandas as pd\n",
    "import glob\n",
    "import matplotlib.pyplot as plt\n",
    "import seaborn as sns"
   ]
  },
  {
   "cell_type": "code",
   "execution_count": 112,
   "metadata": {},
   "outputs": [
    {
     "name": "stderr",
     "output_type": "stream",
     "text": [
      "/Users/JakeCanfield/anaconda3/lib/python3.7/site-packages/IPython/core/interactiveshell.py:3057: DtypeWarning: Columns (1) have mixed types. Specify dtype option on import or set low_memory=False.\n",
      "  interactivity=interactivity, compiler=compiler, result=result)\n",
      "/Users/JakeCanfield/anaconda3/lib/python3.7/site-packages/IPython/core/interactiveshell.py:3057: DtypeWarning: Columns (2) have mixed types. Specify dtype option on import or set low_memory=False.\n",
      "  interactivity=interactivity, compiler=compiler, result=result)\n",
      "/Users/JakeCanfield/anaconda3/lib/python3.7/site-packages/IPython/core/interactiveshell.py:3057: DtypeWarning: Columns (26) have mixed types. Specify dtype option on import or set low_memory=False.\n",
      "  interactivity=interactivity, compiler=compiler, result=result)\n"
     ]
    }
   ],
   "source": [
    "years = range(2007,2023)\n",
    "data_fp = '/Users/JakeCanfield/Documents/Trauma_Surgery_Research/Data/Raw_data/PUF AY %i/CSV/*'\n",
    "graph_df = pd.DataFrame(columns=['Year', 'Number of Columns'])\n",
    "julian_df = pd.DataFrame(columns=['Data Field', 'Include (Y/N)', 'Year'], dtype='int')\n",
    "for year in years:\n",
    "    columns = []\n",
    "    files = glob.glob(data_fp%year)\n",
    "    for file in files:\n",
    "        file_df = pd.read_csv(file, encoding='latin-1')\n",
    "        file_cols = file_df.columns.tolist()\n",
    "        [columns.append(i) for i in file_cols]\n",
    "    counts = np.shape(columns)[0]\n",
    "    graph_info = pd.DataFrame([[year, counts]], columns=['Year', 'Number of Columns'], dtype='int')\n",
    "    graph_df = graph_df.append(graph_info, ignore_index=True)\n",
    "    julian_cols = pd.DataFrame(columns, columns=['Data Field'])\n",
    "    julian_cols['Include (Y/N)'] = 0\n",
    "    julian_cols['Year'] = year\n",
    "    julian_df = julian_df.append(julian_cols, ignore_index=True)"
   ]
  },
  {
   "cell_type": "code",
   "execution_count": 113,
   "metadata": {},
   "outputs": [],
   "source": [
    "julian_df.to_csv('/Users/JakeCanfield/Documents/Trauma_Surgery_Research/Data/User_Manuals/julian_datafields.csv')"
   ]
  },
  {
   "cell_type": "code",
   "execution_count": 123,
   "metadata": {
    "scrolled": false
   },
   "outputs": [
    {
     "ename": "AttributeError",
     "evalue": "'AxesSubplot' object has no attribute 'bar_label'",
     "output_type": "error",
     "traceback": [
      "\u001b[0;31m---------------------------------------------------------------------------\u001b[0m",
      "\u001b[0;31mAttributeError\u001b[0m                            Traceback (most recent call last)",
      "\u001b[0;32m<ipython-input-123-9d611a545704>\u001b[0m in \u001b[0;36m<module>\u001b[0;34m\u001b[0m\n\u001b[1;32m      3\u001b[0m \u001b[0msns\u001b[0m\u001b[0;34m.\u001b[0m\u001b[0mcolor_palette\u001b[0m\u001b[0;34m(\u001b[0m\u001b[0;34m\"viridis\"\u001b[0m\u001b[0;34m,\u001b[0m \u001b[0mas_cmap\u001b[0m\u001b[0;34m=\u001b[0m\u001b[0;32mTrue\u001b[0m\u001b[0;34m)\u001b[0m\u001b[0;34m\u001b[0m\u001b[0;34m\u001b[0m\u001b[0m\n\u001b[1;32m      4\u001b[0m \u001b[0max\u001b[0m \u001b[0;34m=\u001b[0m \u001b[0msns\u001b[0m\u001b[0;34m.\u001b[0m\u001b[0mbarplot\u001b[0m\u001b[0;34m(\u001b[0m\u001b[0mdata\u001b[0m\u001b[0;34m=\u001b[0m\u001b[0mgraph_df\u001b[0m\u001b[0;34m,\u001b[0m \u001b[0mx\u001b[0m\u001b[0;34m=\u001b[0m\u001b[0;34m'Year'\u001b[0m\u001b[0;34m,\u001b[0m \u001b[0my\u001b[0m\u001b[0;34m=\u001b[0m\u001b[0;34m'Number of Columns'\u001b[0m\u001b[0;34m,\u001b[0m \u001b[0mpalette\u001b[0m\u001b[0;34m=\u001b[0m\u001b[0;34m'viridis'\u001b[0m\u001b[0;34m)\u001b[0m\u001b[0;34m\u001b[0m\u001b[0;34m\u001b[0m\u001b[0m\n\u001b[0;32m----> 5\u001b[0;31m \u001b[0max\u001b[0m\u001b[0;34m.\u001b[0m\u001b[0mbar_label\u001b[0m\u001b[0;34m(\u001b[0m\u001b[0max\u001b[0m\u001b[0;34m.\u001b[0m\u001b[0mcontainers\u001b[0m\u001b[0;34m[\u001b[0m\u001b[0;36m0\u001b[0m\u001b[0;34m]\u001b[0m\u001b[0;34m,\u001b[0m \u001b[0mfontsize\u001b[0m\u001b[0;34m=\u001b[0m\u001b[0;36m10\u001b[0m\u001b[0;34m)\u001b[0m\u001b[0;34m\u001b[0m\u001b[0;34m\u001b[0m\u001b[0m\n\u001b[0m\u001b[1;32m      6\u001b[0m \u001b[0mplt\u001b[0m\u001b[0;34m.\u001b[0m\u001b[0mtight_layout\u001b[0m\u001b[0;34m(\u001b[0m\u001b[0;34m)\u001b[0m\u001b[0;34m\u001b[0m\u001b[0;34m\u001b[0m\u001b[0m\n\u001b[1;32m      7\u001b[0m \u001b[0mplt\u001b[0m\u001b[0;34m.\u001b[0m\u001b[0mshow\u001b[0m\u001b[0;34m(\u001b[0m\u001b[0;34m)\u001b[0m\u001b[0;34m\u001b[0m\u001b[0;34m\u001b[0m\u001b[0m\n",
      "\u001b[0;31mAttributeError\u001b[0m: 'AxesSubplot' object has no attribute 'bar_label'"
     ]
    },
    {
     "data": {
      "image/png": "[encoded data removed]",
      "text/plain": [
       "<Figure size 432x288 with 1 Axes>"
      ]
     },
     "metadata": {},
     "output_type": "display_data"
    }
   ],
   "source": [
    "graph_df = graph_df.astype(int)\n",
    "sns.set_style('darkgrid', {\"axes.facecolor\": \".9\"})\n",
    "sns.color_palette(\"viridis\", as_cmap=True)\n",
    "ax = sns.barplot(data=graph_df, x='Year', y='Number of Columns', palette='viridis')\n",
    "ax.bar_label(ax.containers[0], fontsize=10)\n",
    "plt.tight_layout()\n",
    "plt.show()"
   ]
  },
  {
   "cell_type": "code",
   "execution_count": null,
   "metadata": {},
   "outputs": [],
   "source": []
  }
 ],
 "metadata": {
  "kernelspec": {
   "display_name": "Python 3",
   "language": "python",
   "name": "python3"
  },
  "language_info": {
   "codemirror_mode": {
    "name": "ipython",
    "version": 3
   },
   "file_extension": ".py",
   "mimetype": "text/x-python",
   "name": "python",
   "nbconvert_exporter": "python",
   "pygments_lexer": "ipython3",
   "version": "3.7.3"
  }
 },
 "nbformat": 4,
 "nbformat_minor": 2
}
