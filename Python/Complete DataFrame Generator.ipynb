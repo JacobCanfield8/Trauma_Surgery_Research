{
 "cells": [
  {
   "cell_type": "code",
   "execution_count": 1,
   "metadata": {},
   "outputs": [
    {
     "name": "stderr",
     "output_type": "stream",
     "text": [
      "/Users/JakeCanfield/anaconda3/lib/python3.7/site-packages/pandas/compat/_optional.py:138: UserWarning: Pandas requires version '2.7.0' or newer of 'numexpr' (version '2.6.9' currently installed).\n",
      "  warnings.warn(msg, UserWarning)\n"
     ]
    }
   ],
   "source": [
    "import numpy as np\n",
    "import pandas as pd\n",
    "import glob\n",
    "import matplotlib.pyplot as plt\n",
    "import seaborn as sns\n",
    "import matplotlib as mpl\n",
    "from itertools import combinations\n",
    "from collections import defaultdict"
   ]
  },
  {
   "cell_type": "code",
   "execution_count": 2,
   "metadata": {},
   "outputs": [],
   "source": [
    "data_fp = '/Users/JakeCanfield/Documents/Trauma_Surgery_Research/Data/Raw_data/PUF AY %i/CSV/'\n",
    "\n",
    "mechanism_code_dict = {1:'Cut/pierce', 2:'Drowning/submersion', 3:'Fall', 4:'Fire/flame', 5:'Hot object/substance', 6:'Firearm', 7:'Machinery', 8:'MVT Occupant', 9:'MVT Motorcyclist', 10:'MVT Pedal cyclist', 11:'MVT Pedestrian', 12:'MVT Unspecified', 13:'MVT Other', 14:'Pedal cyclist, other', 15:'Pedestrian, other', 16:'Transport, other', 17:'Natural/environmental,  Bites and stings', 18:'Natural/environmental,  Other', 19:'Overexertion', 20:'Poisoning', 21:'Struck by, against', 22:'Suffocation', 23:'Other specified and classifiable', 24:'Other specified, not elsewhere classifiable', 25:'Unspecified', 26:'Adverse effects, medical care', 27:'Adverse effects, drugs'} # As noted in PUF dictionary\n",
    "trauma_type_code_dict = {1:'Blunt', 2:'Penetrating', 3:'Burn', 4:'Other/unspecified', 9:'Activity Code - Not Valid as a Primary E-Code'} # As noted in PUF Dictionary\n",
    "sex_code_dict = {1:'Male', 2:'Female', 3:'Unknown'}\n",
    "eddischarge_code_dict = {1: 'Floor bed (general admission, non-specialty unit bed)', 2: 'Observation unit (unit that provides < 24 hour stays)', 3: 'Telemetry/step-down unit (less acuity than ICU)', 4: 'Home with services', 5: 'Deceased/expired', 6: 'Other (jail, institutional care, mental health, etc.)', 7: 'Operating Room', 8: 'Intensive Care Unit (ICU)', 9: 'Home without services', 10: 'Left against medical advice', 11: 'Transferred to another hospital'}\n",
    "hospdischarge_disposition_code_dict = {1: 'Discharged/Transferred to a short-term general hospital for inpatient care', 2: 'Discharged/Transferred to an Intermediate Care Facility (ICF)', 3: 'Discharged/Transferred to home under care of organized home health service', 4: 'Left against medical advice or discontinued care', 5: 'Deceased/Expired', 6: 'Discharged to home or self-care (routine discharge)', 7: 'Discharged/Transferred to Skilled Nursing Facility (SNF)', 8: 'Discharged/Transferred to hospice care', 10: 'Discharged/Transferred to court/law enforcement', 11: 'Discharged/Transferred to inpatient rehab or designated unit', 12: 'Discharged/Transferred to Long Term Care Hospital (LTCH)', 13: 'Discharged/Transferred to a psychiatric hospital or psychiatric distinct part unit of a hospital', 14: 'Discharged/Transferred to another type of institution not defined elsewhere'}\n",
    "prehospca_code_dict = {1:'Yes', 2:'No', 3:'Unknown'}\n",
    "\n",
    "vitals_cols = ['EMSSBP', 'EMSRESPIRATORYRATE', 'EMSPULSERATE', 'EMSPULSEOXIMETRY', 'EMSTOTALGCS',\n",
    "              'TEMPERATURE', 'SBP', 'RESPIRATORYRATE', 'PULSERATE', 'PULSEOXIMETRY', 'TOTALGCS']\n",
    "required_cols = ['INC_KEY', 'SEX', 'TRAUMATYPE', 'MECHANISM', 'AGEYEARS', 'EDDISCHARGEDISPOSITION', 'HOSPDISCHARGEDISPOSITION', 'PREHOSPITALCARDIACARREST', 'HMRRHGCTRLSURGMINS']"
   ]
  },
  {
   "cell_type": "code",
   "execution_count": 4,
   "metadata": {},
   "outputs": [
    {
     "name": "stdout",
     "output_type": "stream",
     "text": [
      "Number of Cases in 2017 (Cutoff after arrival = 20 minutes): 859\n",
      "Number of Cases in 2018 (Cutoff after arrival = 20 minutes): 880\n",
      "Number of Cases in 2019 (Cutoff after arrival = 20 minutes): 1081\n"
     ]
    },
    {
     "name": "stderr",
     "output_type": "stream",
     "text": [
      "/Users/JakeCanfield/anaconda3/lib/python3.7/site-packages/IPython/core/interactiveshell.py:3325: DtypeWarning: Columns (26) have mixed types.Specify dtype option on import or set low_memory=False.\n",
      "  exec(code_obj, self.user_global_ns, self.user_ns)\n"
     ]
    },
    {
     "name": "stdout",
     "output_type": "stream",
     "text": [
      "Number of Cases in 2020 (Cutoff after arrival = 20 minutes): 1385\n"
     ]
    }
   ],
   "source": [
    "years = range(2017, 2021, 1)\n",
    "cutofftimes = [20]\n",
    "for cutofftime in cutofftimes:\n",
    "    for year in years:\n",
    "        if year in range(2017, 2019):\n",
    "            TRAUMA_df = pd.read_csv(data_fp%year + 'PUF_TRAUMA.csv')\n",
    "            ECODE_LOOKUP_df = pd.read_csv(data_fp%year + 'PUF_ECODE_LOOKUP.csv')\n",
    "        elif year in range(2019, 2021):\n",
    "            TRAUMA_df = pd.read_csv(data_fp%year + 'PUF_TRAUMA.csv')\n",
    "            ECODE_LOOKUP_df = pd.read_csv(data_fp%year + 'PUF_ECODE_LOOKUP.csv')\n",
    "        else:\n",
    "            pass\n",
    "        \n",
    "        TRAUMA_df.columns = map(str.upper, TRAUMA_df.columns)\n",
    "        ECODE_LOOKUP_df.columns = map(str.upper, ECODE_LOOKUP_df.columns)\n",
    "        \n",
    "        if year in range(2019, 2021):\n",
    "            TRAUMA_df['HMRRHGCTRLSURGMINS'] = TRAUMA_df['HMRRHGCTRLSURGHRS']*60\n",
    "            TRAUMA_df['EDMINS'] = TRAUMA_df['EDDISCHARGEHRS']*60\n",
    "        else:\n",
    "            pass\n",
    "        \n",
    "        TRAUMA_df = TRAUMA_df.dropna(subset=['HMRRHGCTRLSURGMINS'])\n",
    "        TRAUMA_df['HMRRHGCTRLSURGMINS'] = TRAUMA_df['HMRRHGCTRLSURGMINS'].round().astype(int)\n",
    "        \n",
    "        TRAUMA_df = TRAUMA_df.dropna(subset=['EDMINS'])\n",
    "        TRAUMA_df['EDMINS'] = TRAUMA_df['EDMINS'].round().astype(int)\n",
    "        \n",
    "        TRAUMA_df = TRAUMA_df.loc[TRAUMA_df['HMRRHGCTRLSURGTYPE'] == 3.0]\n",
    "        \n",
    "        TRAUMA_df = TRAUMA_df[(TRAUMA_df['HMRRHGCTRLSURGMINS'] <= TRAUMA_df['EDMINS']) & (TRAUMA_df['HMRRHGCTRLSURGMINS'] <= cutofftime)]\n",
    "        \n",
    "        ECODE_LOOKUP_df = ECODE_LOOKUP_df.loc[:, ['ECODE', 'ECODE_DESC', 'MECHANISM', 'TRAUMATYPE']]\n",
    "    \n",
    "        ecode_dict = dict(zip(ECODE_LOOKUP_df['ECODE'], ECODE_LOOKUP_df['ECODE_DESC'])) # create dictionary\n",
    "        TRAUMA_df['PRIMARYECODEICD10'] = TRAUMA_df['PRIMARYECODEICD10'].replace(ecode_dict) # implement dictionary\n",
    "        \n",
    "        mechanism_dict = dict(zip(ECODE_LOOKUP_df['ECODE_DESC'], ECODE_LOOKUP_df['MECHANISM'])) # create dictionary\n",
    "        TRAUMA_df['MECHANISM'] = TRAUMA_df['PRIMARYECODEICD10'].map(mechanism_dict) # implement dictionary\n",
    "        \n",
    "        traumatype_dict = dict(zip(ECODE_LOOKUP_df['ECODE_DESC'], ECODE_LOOKUP_df['TRAUMATYPE'])) # create dictionary\n",
    "        TRAUMA_df['TRAUMATYPE'] = TRAUMA_df['PRIMARYECODEICD10'].map(traumatype_dict) # implement dictionary\n",
    "        \n",
    "        TRAUMA_df['MECHANISM'] = TRAUMA_df['MECHANISM'].replace(mechanism_code_dict) # implement dictionary\n",
    "        \n",
    "        TRAUMA_df['TRAUMATYPE'] = TRAUMA_df['TRAUMATYPE'].replace(trauma_type_code_dict) # implement dictionary\n",
    "        \n",
    "        TRAUMA_df['SEX'] = TRAUMA_df['SEX'].replace(sex_code_dict)\n",
    "        \n",
    "        TRAUMA_df['EDDISCHARGEDISPOSITION'] = TRAUMA_df['EDDISCHARGEDISPOSITION'].replace(eddischarge_code_dict) # implement dictionary\n",
    "    \n",
    "        TRAUMA_df['HOSPDISCHARGEDISPOSITION'] = TRAUMA_df['HOSPDISCHARGEDISPOSITION'].replace(hospdischarge_disposition_code_dict) # implement dictionary\n",
    "        \n",
    "        TRAUMA_df['PREHOSPITALCARDIACARREST'] = TRAUMA_df['PREHOSPITALCARDIACARREST'].apply(lambda x: x if x in [1, 2] else 3)\n",
    "        TRAUMA_df['PREHOSPITALCARDIACARREST'] = TRAUMA_df['PREHOSPITALCARDIACARREST'].replace(prehospca_code_dict) # implement dictionary\n",
    "        \n",
    "        TRAUMA_df = TRAUMA_df.loc[:,required_cols+vitals_cols]\n",
    "        numeric_columns = TRAUMA_df.select_dtypes(include=[np.number]).columns\n",
    "        TRAUMA_df[numeric_columns] = TRAUMA_df[numeric_columns].applymap(lambda x: np.nan if x < 0 else x)\n",
    "        print('Number of Cases in %i (Cutoff after arrival = %i minutes):'%(year, cutofftime), np.shape(TRAUMA_df)[0])\n",
    "        \n",
    "        TRAUMA_df.to_csv('/Users/JakeCanfield/Documents/Trauma_Surgery_Research/data/Vitals/vitals_%i_mins_df_%i.csv'%(cutofftime, year), index=False)"
   ]
  },
  {
   "cell_type": "code",
   "execution_count": 24,
   "metadata": {},
   "outputs": [
    {
     "name": "stdout",
     "output_type": "stream",
     "text": [
      "Number of Cases in 2007 (Cutoff after arrival = 20 minutes): 400\n",
      "(400, 20)\n",
      "(400,)\n"
     ]
    },
    {
     "data": {
      "text/plain": [
       "array(['Died', 'Floor bed (general admission, non specialty unit bed)',\n",
       "       'Intensive Care Unit (ICU)', 'Not Applicable BIU 1',\n",
       "       'Not Known BIU 2', 'Not Recorded BIU 3', 'Operating Room',\n",
       "       'Other (jail, institutional care facility, mental health, etc)',\n",
       "       'Telemetry/step-down unit (less acuity than ICU)'], dtype=object)"
      ]
     },
     "metadata": {},
     "output_type": "display_data"
    },
    {
     "data": {
      "text/plain": [
       "array(['Discharge/Transferred to home under care of Home Health Agency',\n",
       "       'Discharged home with no home services',\n",
       "       'Discharged/Transferred to Skilled Nursing Facility',\n",
       "       'Discharged/Transferred to an Intermediate Care Facility',\n",
       "       'Discharged/Transferred to another acute care hospital using EMS',\n",
       "       'Discharged/Transferred to another type of rehabilitation or long term',\n",
       "       'Expired', 'Left against medical advice', 'Not Applicable BIU 1',\n",
       "       'Not Known BIU 2', 'Not Recorded BIU 3'], dtype=object)"
      ]
     },
     "metadata": {},
     "output_type": "display_data"
    },
    {
     "name": "stdout",
     "output_type": "stream",
     "text": [
      "Number of Cases in 2008 (Cutoff after arrival = 20 minutes): 912\n",
      "(912, 20)\n",
      "(912,)\n"
     ]
    },
    {
     "data": {
      "text/plain": [
       "array(['Died', 'Floor bed (general admission, non specialty unit bed)',\n",
       "       'Home without services', 'Intensive Care Unit (ICU)',\n",
       "       'Not Applicable BIU 1', 'Not Known BIU 2', 'Operating Room',\n",
       "       'Telemetry/step-down unit (less acuity than ICU)',\n",
       "       'Transferred to another hospital'], dtype=object)"
      ]
     },
     "metadata": {},
     "output_type": "display_data"
    },
    {
     "data": {
      "text/plain": [
       "array(['Discharge/Transferred to home under care of Home Health Agency',\n",
       "       'Discharged home with no home services',\n",
       "       'Discharged/Transferred to Skilled Nursing Facility',\n",
       "       'Discharged/Transferred to an Intermediate Care Facility',\n",
       "       'Discharged/Transferred to another acute care hospital using EMS',\n",
       "       'Discharged/Transferred to another type of rehabilitation or long term',\n",
       "       'Expired', 'Not Applicable BIU 1', 'Not Known BIU 2'], dtype=object)"
      ]
     },
     "metadata": {},
     "output_type": "display_data"
    },
    {
     "name": "stdout",
     "output_type": "stream",
     "text": [
      "Number of Cases in 2009 (Cutoff after arrival = 20 minutes): 778\n",
      "(778, 20)\n",
      "(778,)\n"
     ]
    },
    {
     "data": {
      "text/plain": [
       "array(['Died', 'Floor bed (general admission, non specialty unit bed)',\n",
       "       'Intensive Care Unit (ICU)', 'Not Applicable BIU 1',\n",
       "       'Not Known/Not Recorded BIU 2', 'Operating Room',\n",
       "       'Telemetry/step-down unit (less acuity than ICU)'], dtype=object)"
      ]
     },
     "metadata": {},
     "output_type": "display_data"
    },
    {
     "data": {
      "text/plain": [
       "array(['Discharge/Transferred to home under care of organized home health serv',\n",
       "       'Discharged home with no home services',\n",
       "       'Discharged/Transferred to Skilled Nursing Facility',\n",
       "       'Discharged/Transferred to a short-term general hospital for inpatient',\n",
       "       'Discharged/Transferred to an Intermediate Care Facility (ICF)',\n",
       "       'Discharged/Transferred to another type of rehabilitation or long term',\n",
       "       'Discharged/Transferred to hospice care', 'Expired',\n",
       "       'Not Applicable BIU 1', 'Not Known/Not Recorded BIU 2'],\n",
       "      dtype=object)"
      ]
     },
     "metadata": {},
     "output_type": "display_data"
    },
    {
     "name": "stdout",
     "output_type": "stream",
     "text": [
      "Number of Cases in 2010 (Cutoff after arrival = 20 minutes): 533\n",
      "(533, 20)\n",
      "(533,)\n"
     ]
    },
    {
     "data": {
      "text/plain": [
       "array(['Died', 'Floor bed (general admission, non specialty unit bed)',\n",
       "       'Home without services', 'Intensive Care Unit (ICU)',\n",
       "       'Not Known/Not Recorded BIU 2',\n",
       "       'Observation unit (unit that provides &lt; 24 hour stays)',\n",
       "       'Operating Room',\n",
       "       'Telemetry/step-down unit (less acuity than ICU)'], dtype=object)"
      ]
     },
     "metadata": {},
     "output_type": "display_data"
    },
    {
     "data": {
      "text/plain": [
       "array(['Discharge/Transferred to home under care of organized home health serv',\n",
       "       'Discharged home with no home services',\n",
       "       'Discharged/Transferred to Skilled Nursing Facility',\n",
       "       'Discharged/Transferred to a short-term general hospital for inpatient',\n",
       "       'Discharged/Transferred to an Intermediate Care Facility (ICF)',\n",
       "       'Discharged/Transferred to another type of rehabilitation or long term',\n",
       "       'Expired', 'Not Applicable BIU 1'], dtype=object)"
      ]
     },
     "metadata": {},
     "output_type": "display_data"
    },
    {
     "name": "stdout",
     "output_type": "stream",
     "text": [
      "Number of Cases in 2011 (Cutoff after arrival = 20 minutes): 642\n",
      "(642, 20)\n",
      "(642,)\n"
     ]
    },
    {
     "data": {
      "text/plain": [
       "array(['Died', 'Floor bed (general admission, non specialty unit bed)',\n",
       "       'Home without services', 'Intensive Care Unit (ICU)',\n",
       "       'Operating Room',\n",
       "       'Other (jail, institutional care facility, mental health, etc)',\n",
       "       'Telemetry/step-down unit (less acuity than ICU)',\n",
       "       'Transferred to another hospital'], dtype=object)"
      ]
     },
     "metadata": {},
     "output_type": "display_data"
    },
    {
     "data": {
      "text/plain": [
       "array(['Discharge/Transferred to home under care of organized home health serv',\n",
       "       'Discharged home with no home services',\n",
       "       'Discharged/Transferred to Skilled Nursing Facility',\n",
       "       'Discharged/Transferred to a short-term general hospital for inpatient',\n",
       "       'Discharged/Transferred to an Intermediate Care Facility (ICF)',\n",
       "       'Discharged/Transferred to another type of rehabilitation or long term',\n",
       "       'Expired', 'Left against medical advice or discontinued care',\n",
       "       'Not Applicable BIU 1'], dtype=object)"
      ]
     },
     "metadata": {},
     "output_type": "display_data"
    },
    {
     "name": "stdout",
     "output_type": "stream",
     "text": [
      "Number of Cases in 2012 (Cutoff after arrival = 20 minutes): 799\n",
      "(799, 20)\n",
      "(799,)\n"
     ]
    },
    {
     "data": {
      "text/plain": [
       "array(['Died', 'Floor bed (general admission, non specialty unit bed)',\n",
       "       'Home without services', 'Intensive Care Unit (ICU)',\n",
       "       'Not Applicable BIU 1', 'Not Known/Not Recorded BIU 2',\n",
       "       'Operating Room',\n",
       "       'Telemetry/step-down unit (less acuity than ICU)'], dtype=object)"
      ]
     },
     "metadata": {},
     "output_type": "display_data"
    },
    {
     "data": {
      "text/plain": [
       "array(['Discharge/Transferred to home under care of organized home health serv',\n",
       "       'Discharged home with no home services',\n",
       "       'Discharged/Transferred to Skilled Nursing Facility',\n",
       "       'Discharged/Transferred to a short-term general hospital for inpatient',\n",
       "       'Discharged/Transferred to an Intermediate Care Facility (ICF)',\n",
       "       'Discharged/Transferred to another type of rehabilitation or long term',\n",
       "       'Expired', 'Left against medical advice or discontinued care',\n",
       "       'Not Applicable BIU 1'], dtype=object)"
      ]
     },
     "metadata": {},
     "output_type": "display_data"
    },
    {
     "name": "stdout",
     "output_type": "stream",
     "text": [
      "Number of Cases in 2013 (Cutoff after arrival = 20 minutes): 816\n",
      "(816, 20)\n",
      "(816,)\n"
     ]
    },
    {
     "data": {
      "text/plain": [
       "array(['Died/Expired',\n",
       "       'Floor bed (general admission, non specialty unit bed)',\n",
       "       'Home without services', 'Intensive Care Unit (ICU)',\n",
       "       'Not Known/Not Recorded BIU 2', 'Operating Room',\n",
       "       'Telemetry/step-down unit (less acuity than ICU)'], dtype=object)"
      ]
     },
     "metadata": {},
     "output_type": "display_data"
    },
    {
     "data": {
      "text/plain": [
       "array(['Discharge/Transferred to home under care of organized home health serv',\n",
       "       'Discharged home with no home services',\n",
       "       'Discharged/Transferred to Skilled Nursing Facility',\n",
       "       'Discharged/Transferred to a short-term general hospital for inpatient',\n",
       "       'Discharged/Transferred to an Intermediate Care Facility (ICF)',\n",
       "       'Discharged/Transferred to another type of rehabilitation or long term',\n",
       "       'Expired', 'Not Applicable BIU 1'], dtype=object)"
      ]
     },
     "metadata": {},
     "output_type": "display_data"
    },
    {
     "name": "stdout",
     "output_type": "stream",
     "text": [
      "Number of Cases in 2014 (Cutoff after arrival = 20 minutes): 951\n",
      "(951, 20)\n",
      "(951,)\n"
     ]
    },
    {
     "data": {
      "text/plain": [
       "array(['Died/Expired',\n",
       "       'Floor bed (general admission, non specialty unit bed)',\n",
       "       'Home without services', 'Intensive Care Unit (ICU)',\n",
       "       'Not Known/Not Recorded BIU 2', 'Operating Room',\n",
       "       'Other (jail, institutional care facility, mental health, etc)',\n",
       "       'Telemetry/step-down unit (less acuity than ICU)',\n",
       "       'Transferred to another hospital'], dtype=object)"
      ]
     },
     "metadata": {},
     "output_type": "display_data"
    },
    {
     "data": {
      "text/plain": [
       "array(['Deceased/Expired',\n",
       "       'Discharge/Transferred to home under care of organized home health serv',\n",
       "       'Discharged to home or self-care (routine discharge)',\n",
       "       'Discharged/Transferred to Long Term Care Hospital',\n",
       "       'Discharged/Transferred to Skilled Nursing Facility',\n",
       "       'Discharged/Transferred to a short-term general hospital for inpatient',\n",
       "       'Discharged/Transferred to an Intermediate Care Facility (ICF)',\n",
       "       'Discharged/Transferred to another type of institution not defined else',\n",
       "       'Discharged/Transferred to court/law enforcement',\n",
       "       'Discharged/Transferred to hospice care',\n",
       "       'Discharged/Transferred to inpatient rehab or designated unit',\n",
       "       'Discharged/transferred to a psychiatric hospital or psychiatric distin',\n",
       "       'Left against medical advice or discontinued care',\n",
       "       'Not Applicable BIU 1'], dtype=object)"
      ]
     },
     "metadata": {},
     "output_type": "display_data"
    },
    {
     "name": "stdout",
     "output_type": "stream",
     "text": [
      "Number of Cases in 2015 (Cutoff after arrival = 20 minutes): 1194\n",
      "(1194, 20)\n",
      "(1194,)\n"
     ]
    },
    {
     "data": {
      "text/plain": [
       "array(['Deceased/Expired',\n",
       "       'Floor bed (general admission, non specialty unit bed)',\n",
       "       'Home with services', 'Home without services',\n",
       "       'Intensive Care Unit (ICU)', 'Not Known/Not Recorded BIU 2',\n",
       "       'Operating Room',\n",
       "       'Telemetry/step-down unit (less acuity than ICU)'], dtype=object)"
      ]
     },
     "metadata": {},
     "output_type": "display_data"
    },
    {
     "data": {
      "text/plain": [
       "array(['Deceased/Expired',\n",
       "       'Discharge/Transferred to home under care of organized home health serv',\n",
       "       'Discharged to home or self-care (routine discharge)',\n",
       "       'Discharged/Transferred to Long Term Care Hospital',\n",
       "       'Discharged/Transferred to Skilled Nursing Facility',\n",
       "       'Discharged/Transferred to a short-term general hospital for inpatient',\n",
       "       'Discharged/Transferred to an Intermediate Care Facility (ICF)',\n",
       "       'Discharged/Transferred to another type of institution not defined else',\n",
       "       'Discharged/Transferred to court/law enforcement',\n",
       "       'Discharged/Transferred to inpatient rehab or designated unit',\n",
       "       'Discharged/transferred to a psychiatric hospital or psychiatric distin',\n",
       "       'Left against medical advice or discontinued care',\n",
       "       'Not Applicable BIU 1', 'Not Known/Not Recorded BIU 2'],\n",
       "      dtype=object)"
      ]
     },
     "metadata": {},
     "output_type": "display_data"
    },
    {
     "name": "stdout",
     "output_type": "stream",
     "text": [
      "Number of Cases in 2016 (Cutoff after arrival = 20 minutes): 855\n",
      "(855, 20)\n",
      "(855,)\n"
     ]
    },
    {
     "data": {
      "text/plain": [
       "array(['Deceased/Expired',\n",
       "       'Floor bed (general admission, non specialty unit bed)',\n",
       "       'Home with services', 'Home without services',\n",
       "       'Intensive Care Unit (ICU)', 'Not Applicable BIU 1',\n",
       "       'Operating Room',\n",
       "       'Other (jail, institutional care facility, mental health, etc)',\n",
       "       'Telemetry/step-down unit (less acuity than ICU)',\n",
       "       'Transferred to another hospital'], dtype=object)"
      ]
     },
     "metadata": {},
     "output_type": "display_data"
    },
    {
     "data": {
      "text/plain": [
       "array(['Deceased/Expired',\n",
       "       'Discharge/Transferred to home under care of organized home health serv',\n",
       "       'Discharged to home or self-care (routine discharge)',\n",
       "       'Discharged/Transferred to Long Term Care Hospital',\n",
       "       'Discharged/Transferred to Skilled Nursing Facility',\n",
       "       'Discharged/Transferred to a short-term general hospital for inpatient',\n",
       "       'Discharged/Transferred to another type of institution not defined else',\n",
       "       'Discharged/Transferred to court/law enforcement',\n",
       "       'Discharged/Transferred to inpatient rehab or designated unit',\n",
       "       'Discharged/transferred to a psychiatric hospital or psychiatric distin',\n",
       "       'Left against medical advice or discontinued care',\n",
       "       'Not Applicable BIU 1'], dtype=object)"
      ]
     },
     "metadata": {},
     "output_type": "display_data"
    }
   ],
   "source": [
    "import pandas as pd\n",
    "import numpy as np\n",
    "\n",
    "years = range(2007, 2017)\n",
    "cutofftimes = [20]\n",
    "data_fp = '/Users/JakeCanfield/Documents/Trauma_Surgery_Research/Data/Raw_data/PUF AY %i/CSV/'  # Define your data file path here\n",
    "\n",
    "for cutofftime in cutofftimes:\n",
    "    for year in years:\n",
    "        PCODE_df = pd.read_csv(data_fp % year + 'PUF_PCODE.csv').sort_values('INC_KEY')\n",
    "        if year in range(2010, 2017):\n",
    "            PCODE_df = PCODE_df.rename(columns={'HOURTOPROC': 'HOURTOPRO'})\n",
    "        PCODEDES_df = pd.read_csv(data_fp % year + 'PUF_PCODEDES.csv')\n",
    "        ECODE_df = pd.read_csv(data_fp % year + 'PUF_ECODE.csv', usecols=['INC_KEY', 'ECODE']).sort_values('INC_KEY')\n",
    "        ECODEDES_df = pd.read_csv(data_fp % year + 'PUF_ECODEDES.csv', usecols=['INJTYPE', 'MECHANISM', 'ECODE', 'ECODEDES'])\n",
    "        DEMO_df = pd.read_csv(data_fp % year + 'PUF_DEMO.csv', usecols=['INC_KEY', 'GENDER', 'AGE']).sort_values('INC_KEY')\n",
    "        DISCHARGE_df = pd.read_csv(data_fp % year + 'PUF_DISCHARGE.csv', usecols=['INC_KEY', 'HOSPDISP']).sort_values('INC_KEY')\n",
    "        VITALS_df = pd.read_csv(data_fp % year + 'PUF_VITALS.csv', usecols=['INC_KEY', 'VSTYPE', 'SBP', 'RR', 'PULSE', 'OXYSAT', 'TEMP', 'GCSTOT']).sort_values('INC_KEY')\n",
    "        ED_df = pd.read_csv(data_fp % year + 'PUF_ED.csv', usecols=['INC_KEY', 'EDMIN', 'EDDISP']).sort_values('INC_KEY')\n",
    "        if year in range(2013, 2017):\n",
    "            PM_df = pd.read_csv(data_fp % year + 'PUF_PM.csv', usecols=['inc_key', 'HEMORRHAGE_CTRL_STYPE_CODE', 'HEMORRHAGE_CTRL_STYPE_DESC', 'HemorrhageCtrlMins', 'HemorrhageCtrlDays']).sort_values('inc_key')\n",
    "            PM_df.columns = map(str.upper, PM_df.columns)\n",
    "            PM_df = pd.merge(PM_df, ED_df[['INC_KEY', 'EDMIN']], on='INC_KEY', how='left')\n",
    "            PM_df = PM_df.dropna(subset=['HEMORRHAGECTRLMINS'])\n",
    "            PM_df['HEMORRHAGECTRLMINS'] = PM_df['HEMORRHAGECTRLMINS'].round().astype(int)\n",
    "        else:\n",
    "            PM_df = pd.DataFrame()  # Empty DataFrame for consistency\n",
    "        \n",
    "        # Force column headers to be all upper case and fill in missing year data\n",
    "        PCODE_df.columns = map(str.upper, PCODE_df.columns)\n",
    "        ED_df.columns = map(str.upper, ED_df.columns)\n",
    "        PCODEDES_df.columns = map(str.upper, PCODEDES_df.columns)\n",
    "        PCODE_df['YOPROC'] = PCODE_df['YOPROC'].fillna(year)\n",
    "        \n",
    "        PCODE_df['PROCEDUREMINS'] = PCODE_df['HOURTOPRO'] * 60\n",
    "        PCODE_df = PCODE_df.dropna(subset=['PROCEDUREMINS'])\n",
    "        PCODE_df['PROCEDUREMINS'] = PCODE_df['PROCEDUREMINS'].round().astype(int)\n",
    "        \n",
    "        PCODE_df = PCODE_df.loc[:, ['INC_KEY', 'PCODE', 'DAYTOPROC', 'PROCEDUREMINS', 'HOURTOPRO']]\n",
    "        \n",
    "        ECODE_LOOKUP_df = ECODEDES_df.loc[:, ['ECODE', 'ECODEDES', 'MECHANISM', 'INJTYPE']]\n",
    "        \n",
    "        # Merge ED_df with PCODE_df to add EDMIN column\n",
    "        PCODE_df = pd.merge(PCODE_df, ED_df[['INC_KEY', 'EDMIN']], on='INC_KEY', how='left')\n",
    "    \n",
    "        if year in range(2013, 2017):\n",
    "            DCS_list = PM_df.loc[PM_df['HEMORRHAGE_CTRL_STYPE_CODE'] == 3.0]\n",
    "            DCS_list = DCS_list[DCS_list['HEMORRHAGECTRLMINS'] <= cutofftime]\n",
    "            thoracotomy_list = DCS_list[DCS_list['HEMORRHAGECTRLMINS'] <= DCS_list['EDMIN']]\n",
    "            thoracotomy_list2 = PCODE_df.loc[PCODE_df['PCODE'] == 34.02]\n",
    "            thoracotomy_list2 = thoracotomy_list2[(thoracotomy_list2['PROCEDUREMINS'] <= cutofftime) & (thoracotomy_list2['PROCEDUREMINS'] <= thoracotomy_list2['EDMIN'])]\n",
    "            thoracotomy_keys = np.unique(thoracotomy_list['INC_KEY'].tolist() + thoracotomy_list2['INC_KEY'].tolist())\n",
    "        else:\n",
    "            thoracotomy_list = PCODE_df.loc[PCODE_df['PCODE'] == 34.02]\n",
    "            thoracotomy_list = thoracotomy_list[(thoracotomy_list['PROCEDUREMINS'] <= cutofftime) & (thoracotomy_list['PROCEDUREMINS'] <= thoracotomy_list['EDMIN'])]\n",
    "            thoracotomy_keys = np.unique(thoracotomy_list['INC_KEY'].tolist())\n",
    "        PCODE_df = PCODE_df.loc[(PCODE_df['PCODE'] == 34.02) & (PCODE_df['PROCEDUREMINS'] <= cutofftime) & (PCODE_df['PROCEDUREMINS'] <= PCODE_df['EDMIN'])]\n",
    "        PCODE_df = PCODE_df.loc[PCODE_df['INC_KEY'].isin(thoracotomy_keys)]\n",
    "        ECODE_df = ECODE_df.loc[ECODE_df['INC_KEY'].isin(thoracotomy_keys)]\n",
    "        DEMO_df = DEMO_df.loc[DEMO_df['INC_KEY'].isin(thoracotomy_keys)]\n",
    "        DISCHARGE_df = DISCHARGE_df.loc[DISCHARGE_df['INC_KEY'].isin(thoracotomy_keys)]\n",
    "        ED_df = ED_df.loc[ED_df['INC_KEY'].isin(thoracotomy_keys)]\n",
    "        VITALS_df = VITALS_df.loc[VITALS_df['INC_KEY'].isin(thoracotomy_keys)]\n",
    "        if year in range(2013, 2017):\n",
    "            PM_df = PM_df.loc[PM_df['INC_KEY'].isin(thoracotomy_keys)]\n",
    "        \n",
    "        ecode_dict = dict(zip(ECODEDES_df['ECODE'], ECODEDES_df['ECODEDES']))\n",
    "        ECODE_df['ECODE'] = ECODE_df['ECODE'].replace(ecode_dict)\n",
    "        \n",
    "        mechanism_dict = dict(zip(ECODEDES_df['ECODEDES'], ECODEDES_df['MECHANISM']))\n",
    "        ECODE_df['MECHANISM'] = ECODE_df['ECODE'].map(mechanism_dict)\n",
    "        \n",
    "        traumatype_dict = dict(zip(ECODEDES_df['ECODEDES'], ECODE_LOOKUP_df['INJTYPE']))\n",
    "        ECODE_df['INJTYPE'] = ECODE_df['ECODE'].map(traumatype_dict)\n",
    "        \n",
    "        DEMO_df['GENDER'] = DEMO_df['GENDER'].replace(sex_code_dict)\n",
    "        ED_df['EDDISP'] = ED_df['EDDISP'].replace(eddischarge_code_dict)\n",
    "        DISCHARGE_df['HOSPDISP'] = DISCHARGE_df['HOSPDISP'].replace(hospdischarge_disposition_code_dict)\n",
    "        ED_df['PREHOSPITALCARDIACARREST'] = 3\n",
    "        \n",
    "        # Pivot VITALS_df\n",
    "        VITALS_pivot = VITALS_df.pivot(index='INC_KEY', columns='VSTYPE', values=['SBP', 'RR', 'PULSE', 'OXYSAT', 'TEMP', 'GCSTOT'])\n",
    "        VITALS_pivot.columns = [f'{col[1]}{col[0]}' for col in VITALS_pivot.columns]\n",
    "        VITALS_pivot = VITALS_pivot.reset_index()   \n",
    "        \n",
    "        if year in range(2013, 2017):\n",
    "            TRAUMA_df = pd.merge(pd.merge(pd.merge(pd.merge(pd.merge(pd.merge(ECODE_df, DEMO_df, on='INC_KEY', how='left'), ED_df, on='INC_KEY', how='left'), PM_df, on='INC_KEY', how='left'), VITALS_pivot, on='INC_KEY', how='left'), DISCHARGE_df, on='INC_KEY', how='left'), PCODE_df, on='INC_KEY', how='left')\n",
    "            TRAUMA_df['HMRRHGCTRLSURGMINS'] = TRAUMA_df['HEMORRHAGECTRLMINS'].fillna(TRAUMA_df['PROCEDUREMINS'])\n",
    "        else:\n",
    "            TRAUMA_df = pd.merge(pd.merge(pd.merge(pd.merge(pd.merge(ECODE_df, DEMO_df, on='INC_KEY', how='left'), ED_df, on='INC_KEY', how='left'), VITALS_pivot, on='INC_KEY', how='left'), DISCHARGE_df, on='INC_KEY', how='left'), PCODE_df, on='INC_KEY', how='left')\n",
    "            TRAUMA_df['HMRRHGCTRLSURGMINS'] = TRAUMA_df['PROCEDUREMINS']\n",
    "        \n",
    "        TRAUMA_df = TRAUMA_df.rename(columns={'INJTYPE':'TRAUMATYPE', 'GENDER':'SEX', 'AGE':'AGEYEARS',\n",
    "                                             'EDSBP':'SBP', 'EDRR':'RESPIRATORYRATE', 'EMSRR':'EMSRESPIRATORYRATE',\n",
    "                                             'EDPULSE':'PULSERATE', 'EMSPULSE':'EMSPULSERATE', 'EDOXYSAT':'PULSEOXIMETRY',\n",
    "                                             'EMSOXYSAT':'EMSPULSEOXIMETRY', 'EDTEMP':'TEMPERATURE',\n",
    "                                             'EDGCSTOT':'TOTALGCS', 'EMSGCSTOT':'EMSTOTALGCS', \n",
    "                                             'EDDISP':'EDDISCHARGEDISPOSITION', 'HOSPDISP':'HOSPDISCHARGEDISPOSITION'})\n",
    "        \n",
    "        TRAUMA_df = TRAUMA_df.loc[:, required_cols + vitals_cols + ['HMRRHGCTRLSURGMINS']]\n",
    "        TRAUMA_df = TRAUMA_df.drop_duplicates(subset=['INC_KEY'])\n",
    "        \n",
    "        numeric_columns = TRAUMA_df.select_dtypes(include=[np.number]).columns\n",
    "        TRAUMA_df[numeric_columns] = TRAUMA_df[numeric_columns].applymap(lambda x: np.nan if x < 0 else x)\n",
    "        \n",
    "        print('Number of Cases in %i (Cutoff after arrival = %i minutes):' % (year, cutofftime), np.shape(TRAUMA_df)[0])\n",
    "        print(np.shape(TRAUMA_df))\n",
    "        print(np.shape(np.unique(TRAUMA_df['INC_KEY'])))\n",
    "        display(np.unique(TRAUMA_df['EDDISCHARGEDISPOSITION']))\n",
    "        display(np.unique(TRAUMA_df['HOSPDISCHARGEDISPOSITION']))\n",
    "        \n",
    "        TRAUMA_df.to_csv('/Users/JakeCanfield/Documents/Trauma_Surgery_Research/data/Vitals/vitals_%i_mins_df_%i.csv' % (cutofftime, year), index=False)\n"
   ]
  },
  {
   "cell_type": "code",
   "execution_count": 23,
   "metadata": {},
   "outputs": [
    {
     "data": {
      "text/plain": [
       "array(['Deceased/Expired',\n",
       "       'Discharge/Transferred to home under care of organized home health serv',\n",
       "       'Discharged to home or self-care (routine discharge)',\n",
       "       'Discharged/Transferred to Long Term Care Hospital',\n",
       "       'Discharged/Transferred to Skilled Nursing Facility',\n",
       "       'Discharged/Transferred to a short-term general hospital for inpatient',\n",
       "       'Discharged/Transferred to another type of institution not defined else',\n",
       "       'Discharged/Transferred to court/law enforcement',\n",
       "       'Discharged/Transferred to inpatient rehab or designated unit',\n",
       "       'Discharged/transferred to a psychiatric hospital or psychiatric distin',\n",
       "       'Left against medical advice or discontinued care',\n",
       "       'Not Applicable BIU 1'], dtype=object)"
      ]
     },
     "metadata": {},
     "output_type": "display_data"
    }
   ],
   "source": [
    "display(np.unique(TRAUMA_df['HOSPDISCHARGEDISPOSITION']))"
   ]
  },
  {
   "cell_type": "code",
   "execution_count": null,
   "metadata": {},
   "outputs": [],
   "source": []
  }
 ],
 "metadata": {
  "kernelspec": {
   "display_name": "Python 3",
   "language": "python",
   "name": "python3"
  },
  "language_info": {
   "codemirror_mode": {
    "name": "ipython",
    "version": 3
   },
   "file_extension": ".py",
   "mimetype": "text/x-python",
   "name": "python",
   "nbconvert_exporter": "python",
   "pygments_lexer": "ipython3",
   "version": "3.7.3"
  }
 },
 "nbformat": 4,
 "nbformat_minor": 2
}
