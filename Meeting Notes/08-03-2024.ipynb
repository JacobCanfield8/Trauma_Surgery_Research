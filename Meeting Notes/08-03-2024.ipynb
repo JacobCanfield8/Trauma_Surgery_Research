{
 "cells": [
  {
   "cell_type": "markdown",
   "metadata": {},
   "source": [
    "# Progress Update 08/03/2024\n",
    "\n",
    "- Need to revert back to working version of scripts and data aka 2017-2022 only\n",
    "- Focus on getting things done for the meeting on the 6th\n",
    "- Start working on presentation, think about what needs to go in there\n",
    "- If time permits, investigate why the older data is so weird\n",
    "- Keep making plots for the different relationships discussed in other places"
   ]
  }
 ],
 "metadata": {
  "kernelspec": {
   "display_name": "Python 3",
   "language": "python",
   "name": "python3"
  },
  "language_info": {
   "codemirror_mode": {
    "name": "ipython",
    "version": 3
   },
   "file_extension": ".py",
   "mimetype": "text/x-python",
   "name": "python",
   "nbconvert_exporter": "python",
   "pygments_lexer": "ipython3",
   "version": "3.7.3"
  }
 },
 "nbformat": 4,
 "nbformat_minor": 2
}
