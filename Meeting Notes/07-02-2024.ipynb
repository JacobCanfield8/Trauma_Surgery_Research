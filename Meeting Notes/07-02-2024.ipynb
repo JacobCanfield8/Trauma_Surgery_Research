{
 "cells": [
  {
   "cell_type": "markdown",
   "metadata": {},
   "source": [
    "# Meeting with Dr. Schlanser Notes\n",
    "\n",
    "> If you can get `2007 - 2016` to work with newer data can do, but for now not a priority (side project for self)\n",
    "\n",
    "> Priority for right now: use `2017 - 2022` data for project topics including:\n",
    "    > - Age guideline/ cutoff\n",
    "    - Mortality based on timing and performing EDT (mortality rate too excessive if not performed within x minutes)\n",
    "    - Overall Mortality of blunt/ penetrating and by age\n",
    "    - Complications/ comorbidity\n",
    "    - Evaluate WTA/ EAST guidelines vs not followed\n",
    "\n",
    "> Major goal, poster for KAS and ACS - COT\n",
    "\n",
    "> For ICD Procedure Codes: emphasis on timing being within first 15-20 minutes from arrival, look for cross-clamp, thoracic procedures that start on left, only include right if started on left (corroborate with procedure timing), and **EXCLUDE Sternotomy** \n",
    "\n",
    "> Use Loyola paper as benchmark (they cite age cutoff of ~57 years old)"
   ]
  },
  {
   "cell_type": "code",
   "execution_count": null,
   "metadata": {},
   "outputs": [],
   "source": []
  }
 ],
 "metadata": {
  "kernelspec": {
   "display_name": "Python 3",
   "language": "python",
   "name": "python3"
  },
  "language_info": {
   "codemirror_mode": {
    "name": "ipython",
    "version": 3
   },
   "file_extension": ".py",
   "mimetype": "text/x-python",
   "name": "python",
   "nbconvert_exporter": "python",
   "pygments_lexer": "ipython3",
   "version": "3.7.3"
  }
 },
 "nbformat": 4,
 "nbformat_minor": 2
}
