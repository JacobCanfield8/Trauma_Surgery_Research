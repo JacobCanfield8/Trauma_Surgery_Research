{
 "cells": [
  {
   "cell_type": "markdown",
   "metadata": {},
   "source": [
    "# Meeting Notes 06/21/2024"
   ]
  },
  {
   "cell_type": "markdown",
   "metadata": {},
   "source": [
    "## 1. Research Objectives of Past 3 Weeks\n",
    "- [X] Get access to the `National Trauma Data Bank (NTDB)` `Research Dataset (RDS)` -- On 06/21/2024\n",
    "- [X] Download the data -- 06/22/2024\n",
    "- [X] Figure out the structure of the data -- 06/22/2024\n",
    "- [X] Determine contents of the various files -- 06/22/2024\n",
    "- [ ] Data exploration -- In Progress\n",
    "- [ ] Create a method to combine data from all years together -- In Progress\n",
    "\n",
    "## 2. Current State of Progress\n",
    "- Need input on whether to spend time creating one universal file for all years (complicated now, rewarding for future work)\n",
    "- There are a few main issues with the data set (all big databases used for research like this have these issues in various capacities), namely: \n",
    "    - a) in each file there are more instances of the case identifier `INC_KEY` than there are unique `INC_KEY` values (see figure in jupyter notebook) \n",
    "    - b) over the years the way the data is organized (as in labeled under data fields) is not consistent (there are really two major groupings of years that have very different data files, in addition to small changes within these every couple years) \n",
    "    - c) it seems that the actual content is different over the full course of the years of data available (`2007 - 2022`).\n",
    "- My goal is to make all of the data compatible with each other i.e. make it one master file that follow the organizational structure. The alternative option is to just try and treat each year separately and only use data that is available across all years. This would be quicker for the sake of this project, **however**, if we want to use this data base going forward (<u>I think it was a lot of potential</u>) it might be worth it to figure out a way to get this data to be more integrated. Additionally, I think our analyses become more limited if we can't find a way to make the data play nicely. We could also do something similar and only go off of years `2017 - 2022`. Several files list if you can anticipate them being multiple instance per `INC_KEY` (see User Manual) so in theory we know which files are of the **single instance** variety. We could choose to only use these files as opposed to including all files. I still haven't been able to find in any of the papers I've read how they processed their data or if they only chose select files and which ones those might be (I'll keep digging).\n",
    "- Another major obstacle is the infamous missing data problem and what to do with these cases. I have read a few papers, one seemed to think getting rid of any case/ instance missing >2 data fields was acceptable, I will have to read up more about which datafields were counted in this as there are a lot of potential datafields so 2 seems small (you'll see what I mean when I show the tables).\n",
    "- On the matter of the other paper from `Loyola` that basically did what we wanted to do with this project, I figured out what the catch was with the data range of years they used (i.e. `2008 - 2012`) despite publishing in `2018/2019` (why didn't they use data from `2013 - 2017`??). The reason is starting in `2013` several large new additions began being added to the datasets and notably in `2017` there was a **TOTAL** overhaul of the data files and their organization. My guess is they started down the same path we are on, realized the effort required to try and standardize all of the data together and just ran with the `2008 - 2012` range because (*largely*) the data fields remained unchanged or at least had no super substantial changes.\n",
    "- One small caveat of the data set is that anyone age <1 y/o or over age 89 y/o are labeled as `Age -99`, meaning for these two age ranges we will not be able to comment about mortality rate\n",
    "\n",
    "## 3. Research Goals for Next Week\n",
    "- [ ] Data exploration -- In Progress\n",
    "- [ ] Create a method to combine data from all years together -- In Progress\n",
    "- [ ] Figure out best strategy for dealing with missing data and evaluate how bad this problem is\n",
    "\n",
    "## 4. Clinical Skills Performed or Observed/ Reading\n",
    "- [X] Placed 4 staples scalp\n",
    "- [X] Placed first IV (antecubital)\n",
    "- [X] Measured ABI\n",
    "- [X] Keep reading Marino Blue ICU Book (~ 300 pages deep)\n",
    "- [X] Assisted ortho with cast placement\n",
    "- [X] Assisting transport patients to OR/ radiology\n",
    "- [X] Palpated DP pulses on arrival\n",
    "- [X] Place EKG leads, set up monitor for VS\n",
    "- [X] Practiced surgical knots (need to learn more knots)\n",
    "- [X] Practiced suturing at home (silicone pad) --> Can do simple interrupted, need to review horizontal + vertical mattress\n",
    "- [ ] Observed triple lumen catheter in iliac v. placed at bedside\n",
    "- [ ] Observed suturing (numerous)\n",
    "- [ ] Observed chest tube placement\n",
    "- [ ] Observed shock room code (ROSC not achieved)\n",
    "\n",
    "#### `X` Indicates skill performed, blank box indicates observed **ONLY** \n",
    "\n",
    "## 5. Clinical Skills to Get Hands on Experience with\n",
    "- [ ] Learn FAST exam\n",
    "- [ ] Opportunity to suture\n",
    "- [ ] Perform CPR\n",
    "- [ ] Learn to do Primary and Secondary Exam (by end of summer)\n",
    "- [ ] Get better at other skills already given opportunity to try\n",
    "- [ ] Witness EDT (seem to happen whenever I'm *not* here, will have to move in I guess)\n",
    "\n",
    "## 6. Questions/ New Ideas\n",
    "- It seems like implementing machine learning along with the `NTDB RDS` is gaining some traction as I have now read a handful of papers aiming at predicting mortality, stratifying patient risk etc. These could be interesting to pursue down the road at some poin, although this would be heading away from clinical research (but anything machine learning, AI etc etc is just a hot topic across all fields of research).\n",
    "- If you want to be able to track my progress/ have access to the project documentation, I can give you online access via GitHub (all of the project code, papers I've read, notes, documentation etc is available there, private from those who do not have access). It's free.\n",
    "\n",
    "## 7. Feedback and Areas of Improvement\n",
    "- What can I do to improve/ be more useful around the trauma bay?\n",
    "- Other feedback from you about anything else?\n",
    "\n",
    "## 8. Gratitude\n",
    "- The residents/ fellows and yourself have been very kind and have already taught me so much.\n",
    "- Several residents/ fellows have really taken me under their wing and taken the time to answer a lot of questions, show me how to do a lot of things and given me the chance to participate/ serve a functional role which makes me feel useful (greatly appreciated)\n",
    "- Very grateful, I'm excited to come in every day\n",
    "- Individuals who spent above and beyond time: Brigit (EM), Will (Urology), John (EM), Jesse (Trauma), Julian (Trauma), Dawn (EM), Marc (EM)\n",
    "- The Nurses have also been very nice and have taught me a lot as well"
   ]
  },
  {
   "cell_type": "markdown",
   "metadata": {},
   "source": [
    "# Notes"
   ]
  },
  {
   "cell_type": "code",
   "execution_count": null,
   "metadata": {},
   "outputs": [],
   "source": []
  }
 ],
 "metadata": {
  "kernelspec": {
   "display_name": "Python 3",
   "language": "python",
   "name": "python3"
  },
  "language_info": {
   "codemirror_mode": {
    "name": "ipython",
    "version": 3
   },
   "file_extension": ".py",
   "mimetype": "text/x-python",
   "name": "python",
   "nbconvert_exporter": "python",
   "pygments_lexer": "ipython3",
   "version": "3.7.3"
  }
 },
 "nbformat": 4,
 "nbformat_minor": 2
}
