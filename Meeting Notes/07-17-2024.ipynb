{
 "cells": [
  {
   "cell_type": "markdown",
   "metadata": {},
   "source": [
    "# Meeting Notes 07-17-2024\n",
    "\n",
    "**Main Takeaways:**\n",
    "\n",
    "- Explore by Age --> Hospital Type/ Location --> blunt/ penetrating\n",
    "- Explore outcomes (los, icu, # of procedures, complications, hospital events)\n",
    "- Do stats to determine if there are any statistical points\n",
    "- Compare with Loyola paper for stats ideas\n",
    "- Predict other outcomes other than mortality with ML\n",
    "- Keep working on reducing ML features to a few things\n",
    "- Seems like there is no clear age contraindication\n",
    "- Make sure all of the code works, annotate, convert to functions etc. (see if there is a way to make it into a package/ API)\n",
    "- Compare/ contrast with EAST guidelines (SOL and pulseless)\n",
    "- Try running the pipeline with with both ICD-10 and HMRRHGCTRLSURG cases\n",
    "- Consider using old and new data for the ML because only need a few fields and it seems like they would be reasonably consistent\n",
    "- Make it so that the ML thing works similar to med calc (convert numerical data into being more categorical?)\n",
    "- Switch to first 15 minutes as a cutoff (same as Loyola paper)\n",
    "- Also look at fluids given with outcomes etc.\n",
    "- When testing ML should compare with random guessing performance but also performance if you just assume all outcomes are Expired (overfitting/ not differentiating)"
   ]
  },
  {
   "cell_type": "code",
   "execution_count": null,
   "metadata": {},
   "outputs": [],
   "source": []
  }
 ],
 "metadata": {
  "kernelspec": {
   "display_name": "Python 3",
   "language": "python",
   "name": "python3"
  },
  "language_info": {
   "codemirror_mode": {
    "name": "ipython",
    "version": 3
   },
   "file_extension": ".py",
   "mimetype": "text/x-python",
   "name": "python",
   "nbconvert_exporter": "python",
   "pygments_lexer": "ipython3",
   "version": "3.7.3"
  }
 },
 "nbformat": 4,
 "nbformat_minor": 2
}
