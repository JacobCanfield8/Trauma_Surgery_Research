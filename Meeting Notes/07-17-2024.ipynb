{
 "cells": [
  {
   "cell_type": "markdown",
   "metadata": {},
   "source": [
    "# Checklist of what we are going to do for Age Guideline Project\n",
    "\n",
    "- [ ] Can we get more detailed about Hospital type/ location\n",
    "    - From what I can tell in the data dictionary, you can't even derive state or related information. There is mention in the documentation somewhere that mentions zip codes and related things but it is unclear where this is actually located. The `.pdf` for the data dictionary has mention of zip codes, county, city, state etc but when you look in the User Manual or in the `.csv` for the data dictionary you can't find that information.\n",
    "        - Will have to put a pin in this for now but from some searching around could not find this information in the data.\n",
    "- [ ] Try and get ICD code cases that aren't thoracotomy or sternotomy (possibly exclude all `INC_KEY` that have a listed `HMRRHGCTRLSURGTYPE`, not sure how many cases fit into this category, need to know)\n",
    "- [X] Make `boxplot`/ `violinplot` with `X-axis` being `Survived` or `Deceased`, `Y-axis` being `LOS`, `ICU days`, `Vent days`, `# of ICD procedures during stay`, `complications`, `hospital events`, `# of comorbidity/ pre-existing dx` or other variable of interest, `Hue` being `TRAUMATYPE`\n",
    "- [ ] Calculate which points are statistically distinct\n",
    "- [ ] Try and recreate data from Loyola paper\n",
    "- [ ] Evaluate outcomes of patients according to EAST guidelines vs did not meet criteria but still underwent thoracotomy (hypothesis would be that that there is a small `survival rate` when following the criteria and `100% mortality` when criteria not followed).\n",
    "- [ ] Look at survival rates of individually listed procedures (mortality when receiving vs not cross clamp aorta, intracardiac epi etc).\n",
    "- [ ] Try adding filter that removes cases in which ed discharge occurs prior to thoracotomy time (i.e. these happened in OR not true EDT?) --> This was one of the criteria from the Loyola Paper\n",
    "- [X] Look at outcomes (not just mortality) as a function of amount of blood products received in first 4 and 24 hours\n",
    "- [ ] Look at injury severity scores and outcomes/ location of injury\n",
    "- [X] Look at toxicology/ ETOH and outcomes\n",
    "- [ ] Make a heatmap on US map of where thoracotomy occur and also mortality rate\n",
    "    - At this time this is not possible to my knowledge\n",
    "- [ ] Transport time needs to be figured out, not as simple as just having the value. `HOSPITALARRIVALHRS` is the closest value, however, it is `INCIDENT` to `ED ARRIVAL` time, not sure if `INCIDENT` starts with EMS leaving scene, when EMS is dispatched, based on patient Hx and even precedes EMS being notified etc\n",
    "- [ ] Need to get HC, CC, etc for `2019 - 2022` so that we have more of this data.\n",
    "\n",
    "\n",
    "# Checklist of things for RTcotomy ML Project\n",
    "\n",
    "- [ ] Add transport time to features included in model\n",
    "- [ ] Add data from all years\n",
    "- [ ] Standardize the various algorithms and create functions\n",
    "- [ ] Determine best error metrics to use for calibrating hyperparameters\n",
    "- [ ] Find out if there is a way to assign probabilities to the decision\n",
    "- [ ] Get the website running independent of my laptop\n",
    "- [ ] Add a database where data can be stored/ used (will have to develop criteria for submitting data, storing data in de-identified way, validating i.e. people just making up inputs to try out vs real data and outcome).\n",
    "- [ ] Make interactive graphs based on data on website to show various relationships\n",
    "- [ ] Make predictions about other variables like LOS, Vent Days etc."
   ]
  },
  {
   "cell_type": "code",
   "execution_count": null,
   "metadata": {},
   "outputs": [],
   "source": []
  }
 ],
 "metadata": {
  "kernelspec": {
   "display_name": "Python 3",
   "language": "python",
   "name": "python3"
  },
  "language_info": {
   "codemirror_mode": {
    "name": "ipython",
    "version": 3
   },
   "file_extension": ".py",
   "mimetype": "text/x-python",
   "name": "python",
   "nbconvert_exporter": "python",
   "pygments_lexer": "ipython3",
   "version": "3.7.3"
  }
 },
 "nbformat": 4,
 "nbformat_minor": 2
}
