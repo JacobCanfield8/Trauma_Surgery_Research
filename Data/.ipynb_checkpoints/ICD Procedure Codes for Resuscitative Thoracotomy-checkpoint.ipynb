{
 "cells": [
  {
   "cell_type": "markdown",
   "metadata": {},
   "source": [
    "# Potential Thoracotomy ICD-10 Procedure Codes"
   ]
  },
  {
   "cell_type": "markdown",
   "metadata": {},
   "source": [
    "0WJB0ZZ, Inspection of Left Pleural Cavity, Open Approach\n",
    "0WJ90ZZ, Inspection of Right Pleural Cavity, Open Approach\n",
    "02JA0ZZ, Inspection of Heart, Open Approach\n",
    "02JY0ZZ, Inspection of Great Vessel, Open Approach\n",
    "0BJL0ZZ, Inspection of Left Lung, Open Approach\n",
    "0BJK0ZZ, Inspection of Right Lung, Open Approach\n",
    "0BJQ0ZZ, Inspection of Pleura, Open Approach\n",
    "0WJ80ZZ, Inspection of Chest Wall, Open Approach\n",
    "0WJC0ZZ, Inspection of Mediastinum, Open Approach\n",
    "0WJD0ZZ, Inspection of Pericardial Cavity, Open Approach\n",
    "02VW0CZ, Restriction of Thoracic Aorta, Descending with Extraluminal Device, Open Approach\n",
    "\n",
    "intracardiac epi?\n",
    "exclude sternotomy\n",
    "\n",
    "0P800ZZ Division of Sternum, Open Approach --> sternotomy"
   ]
  },
  {
   "cell_type": "code",
   "execution_count": null,
   "metadata": {},
   "outputs": [],
   "source": []
  }
 ],
 "metadata": {
  "kernelspec": {
   "display_name": "Python 3",
   "language": "python",
   "name": "python3"
  },
  "language_info": {
   "codemirror_mode": {
    "name": "ipython",
    "version": 3
   },
   "file_extension": ".py",
   "mimetype": "text/x-python",
   "name": "python",
   "nbconvert_exporter": "python",
   "pygments_lexer": "ipython3",
   "version": "3.7.3"
  }
 },
 "nbformat": 4,
 "nbformat_minor": 2
}
